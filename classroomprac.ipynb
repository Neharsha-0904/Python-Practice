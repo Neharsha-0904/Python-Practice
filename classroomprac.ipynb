{
  "nbformat": 4,
  "nbformat_minor": 0,
  "metadata": {
    "colab": {
      "provenance": [],
      "authorship_tag": "ABX9TyPV+/ZWFv9vN2cag2yXVyUJ",
      "include_colab_link": true
    },
    "kernelspec": {
      "name": "python3",
      "display_name": "Python 3"
    },
    "language_info": {
      "name": "python"
    }
  },
  "cells": [
    {
      "cell_type": "markdown",
      "metadata": {
        "id": "view-in-github",
        "colab_type": "text"
      },
      "source": [
        "<a href=\"https://colab.research.google.com/github/Neharsha-0904/Python-Practice/blob/main/classroomprac.ipynb\" target=\"_parent\"><img src=\"https://colab.research.google.com/assets/colab-badge.svg\" alt=\"Open In Colab\"/></a>"
      ]
    },
    {
      "cell_type": "code",
      "execution_count": null,
      "metadata": {
        "colab": {
          "base_uri": "https://localhost:8080/"
        },
        "id": "w_YYrKN2tA5s",
        "outputId": "140280e3-e102-4591-ec3c-9e458924defc"
      },
      "outputs": [
        {
          "output_type": "stream",
          "name": "stdout",
          "text": [
            "Enter the number: 6\n",
            "\n",
            "*\n",
            "**\n",
            "***\n",
            "****\n",
            "*****\n"
          ]
        }
      ],
      "source": [
        "a=int(input(\"Enter the number: \" ))\n",
        "for i in range(a):\n",
        "  for j in range(i):\n",
        "    print(\"*\",end=\"\")\n",
        "  print()"
      ]
    },
    {
      "cell_type": "code",
      "source": [
        "n=int(input(\"Enter the number: \"))\n",
        "for i in range(1,n+1):\n",
        "  print((i**2)-1,end=\",\")\n",
        "else:\n",
        "  print(\"\\b\")"
      ],
      "metadata": {
        "colab": {
          "base_uri": "https://localhost:8080/"
        },
        "id": "UK7GmTaNOThI",
        "outputId": "19db3b2e-783b-4a4c-86ec-3baebdd859de"
      },
      "execution_count": null,
      "outputs": [
        {
          "output_type": "stream",
          "name": "stdout",
          "text": [
            "Enter the number: 10\n",
            "0,3,8,15,24,35,48,63,80,99,\b\n"
          ]
        }
      ]
    },
    {
      "cell_type": "code",
      "source": [
        "a=[3,5,-4,8,11,1,-1,6]\n",
        "b=[]\n",
        "for i in range(len(a)):\n",
        "  for j in range(len(a)):\n",
        "    if i==j:\n",
        "      continue\n",
        "    if a[i]+a[j]==10:\n",
        "      pair=[a[i],a[j]]\n",
        "      if pair not in b and pair[::-1] not in b:\n",
        "        b.append(pair)\n",
        "print(b)"
      ],
      "metadata": {
        "colab": {
          "base_uri": "https://localhost:8080/"
        },
        "id": "wjVMab0rw48q",
        "outputId": "841fe988-e8d9-452b-d6da-0883302d31bc"
      },
      "execution_count": null,
      "outputs": [
        {
          "output_type": "stream",
          "name": "stdout",
          "text": [
            "[[11, -1]]\n"
          ]
        }
      ]
    },
    {
      "cell_type": "code",
      "source": [
        "28/12/23"
      ],
      "metadata": {
        "id": "0IjTi_tqctHK"
      },
      "execution_count": null,
      "outputs": []
    },
    {
      "cell_type": "code",
      "source": [
        "\n",
        "b=[]\n",
        "c=[]\n",
        "n=int(input(\"Enter the number: \"))\n",
        "for i in range(2,n+1):\n",
        "  m=0\n",
        "  for j in range(2,i):\n",
        "    if i%j==0:\n",
        "      m=m+1\n",
        "  if m>0:\n",
        "    continue\n",
        "  else:\n",
        "    b.append(i)\n",
        "for i in range(len(b)):\n",
        "  for j in range(i,len(b)):\n",
        "    if b[i]+b[j]==n:\n",
        "      pair=[b[i],b[j]]\n",
        "      c.append(pair)\n",
        "print(\"all possible combinations are \",c)\n",
        "\n",
        "\n",
        "\n"
      ],
      "metadata": {
        "colab": {
          "base_uri": "https://localhost:8080/"
        },
        "id": "vMd8i_fy7H44",
        "outputId": "c0ac011e-efa2-4748-a7af-893efa6d42b4"
      },
      "execution_count": null,
      "outputs": [
        {
          "output_type": "stream",
          "name": "stdout",
          "text": [
            "Enter the number: 34\n",
            "all possible combinations are  [[3, 31], [5, 29], [11, 23], [17, 17]]\n"
          ]
        }
      ]
    },
    {
      "cell_type": "code",
      "source": [
        "n=int(input(\"Enter the number: \"))\n",
        "b=[]\n",
        "m=0\n",
        "for i in range(1,n):\n",
        "  for j in range(i,n):\n",
        "    for k in range(j,n):\n",
        "      for l in range(k,n):\n",
        "        if i+j+k+l==n:\n",
        "          pair=[i,j,k,l]\n",
        "          if pair not in b :\n",
        "            b.append(pair)\n",
        "          m=m+1\n",
        "if m>0:\n",
        "  print(\"the no of possible outcomes are \",len(b))\n",
        "  print(\"the list of all possible outcomes is: \",b)\n",
        "else:\n",
        "  print(\"No combination possible\")\n"
      ],
      "metadata": {
        "colab": {
          "base_uri": "https://localhost:8080/"
        },
        "id": "wmfLGrj18Ym4",
        "outputId": "532e7e66-f4b6-428b-ec56-9337072afdc0"
      },
      "execution_count": null,
      "outputs": [
        {
          "output_type": "stream",
          "name": "stdout",
          "text": [
            "Enter the number: 8\n",
            "the no of possible outcomes are  5\n",
            "the list of all possible outcomes is:  [[1, 1, 1, 5], [1, 1, 2, 4], [1, 1, 3, 3], [1, 2, 2, 3], [2, 2, 2, 2]]\n"
          ]
        }
      ]
    },
    {
      "cell_type": "code",
      "source": [
        "n=int(input(\"Enter: \"))\n",
        "sum=0\n",
        "for i in range(1,n+1):\n",
        "\n",
        "  for j in range(i):\n",
        "    print(3,end=\"\")\n",
        "  print('+',end=\"\")\n",
        "\n",
        "\n",
        "else:\n",
        "  print(\"\\b\")"
      ],
      "metadata": {
        "colab": {
          "base_uri": "https://localhost:8080/"
        },
        "id": "vlRTBuG67whZ",
        "outputId": "e72890d3-de50-400a-b6f5-d967a684e9aa"
      },
      "execution_count": null,
      "outputs": [
        {
          "output_type": "stream",
          "name": "stdout",
          "text": [
            "Enter: 5\n",
            "3+33+333+3333+33333+\b\n"
          ]
        }
      ]
    },
    {
      "cell_type": "code",
      "source": [
        "n=int(input(\"Enter: \"))\n",
        "sum=0\n",
        "for i in range(1,n+1):\n",
        "  str=''\n",
        "  for j in range(i):\n",
        "    str=str+'3'\n",
        "  sum+=int(str)\n",
        "print(sum)"
      ],
      "metadata": {
        "colab": {
          "base_uri": "https://localhost:8080/"
        },
        "id": "jPIRK_zfXPEn",
        "outputId": "c9abacff-d3ac-47cf-e3f0-3b3563d335ff"
      },
      "execution_count": null,
      "outputs": [
        {
          "output_type": "stream",
          "name": "stdout",
          "text": [
            "Enter: 4\n",
            "3702\n"
          ]
        }
      ]
    },
    {
      "cell_type": "code",
      "source": [
        "n=int(input(\"Enter: \"))\n",
        "sum=0\n",
        "ct=0\n",
        "for i in range(n+1):\n",
        "  ct+=sum\n",
        "  sum=sum*10+3\n",
        "print(ct)"
      ],
      "metadata": {
        "colab": {
          "base_uri": "https://localhost:8080/"
        },
        "id": "e-X6MXoMZXkc",
        "outputId": "132571e3-5ced-47a7-a814-54a2aa5e4cb2"
      },
      "execution_count": null,
      "outputs": [
        {
          "output_type": "stream",
          "name": "stdout",
          "text": [
            "Enter: 3\n",
            "369\n"
          ]
        }
      ]
    },
    {
      "cell_type": "code",
      "source": [
        "n=int(input(\"Enter: \"))\n",
        "k=1\n",
        "'''for i in range(1,n+1):\n",
        "  for j in range(1,n+1):\n",
        "    print(k,\"*\",end=\"\")\n",
        "    k+=1\n",
        "  else:\n",
        "    print(\"\\b\")'''\n",
        "for i in range(1,(n*n)+1):\n",
        "  if i%n==0:\n",
        "    print(k,end=\"\\n\")\n",
        "  else:\n",
        "    print(k,\"*\",end=\"\")\n",
        "  k+=1\n",
        "\n",
        "\n"
      ],
      "metadata": {
        "colab": {
          "base_uri": "https://localhost:8080/"
        },
        "id": "f9i3ity1WkBR",
        "outputId": "ae9bb099-989e-47d9-ea2c-53413c627a6a"
      },
      "execution_count": null,
      "outputs": [
        {
          "output_type": "stream",
          "name": "stdout",
          "text": [
            "Enter: 5\n",
            "1 *2 *3 *4 *5\n",
            "6 *7 *8 *9 *10\n",
            "11 *12 *13 *14 *15\n",
            "16 *17 *18 *19 *20\n",
            "21 *22 *23 *24 *25\n"
          ]
        }
      ]
    },
    {
      "cell_type": "code",
      "source": [
        "n=int(input(\"Enter: \"))\n",
        "k=1\n",
        "for i in range(n+1):\n",
        "  for j in range(i):\n",
        "    print(k,\"*\",end=\"\")\n",
        "    k+=1\n",
        "  else:\n",
        "    print('\\b')\n"
      ],
      "metadata": {
        "colab": {
          "base_uri": "https://localhost:8080/"
        },
        "id": "6TRfIijXUNMP",
        "outputId": "590bee6e-7f61-4a29-aa8a-3e3e34fcaf3b"
      },
      "execution_count": null,
      "outputs": [
        {
          "output_type": "stream",
          "name": "stdout",
          "text": [
            "Enter: 5\n",
            "\b\n",
            "1 *\b\n",
            "2 *3 *\b\n",
            "4 *5 *6 *\b\n",
            "7 *8 *9 *10 *\b\n",
            "11 *12 *13 *14 *15 *\b\n"
          ]
        }
      ]
    },
    {
      "cell_type": "code",
      "source": [
        "n=int(input(\"Enter: \"))\n",
        "for i in range(1,n+1):\n",
        "  for j in range(i):\n",
        "    print('*',end='')\n",
        "  print('')\n",
        "for i in range(n-1,0,-1):\n",
        "  for j in range(i):\n",
        "    print('*',end='')\n",
        "  print('')\n",
        "\n"
      ],
      "metadata": {
        "colab": {
          "base_uri": "https://localhost:8080/"
        },
        "id": "VCpKszsfcyCo",
        "outputId": "1b0a46e5-c585-4d0a-a064-0f0b787e9156"
      },
      "execution_count": null,
      "outputs": [
        {
          "output_type": "stream",
          "name": "stdout",
          "text": [
            "Enter: 5\n",
            "*\n",
            "**\n",
            "***\n",
            "****\n",
            "*****\n",
            "****\n",
            "***\n",
            "**\n",
            "*\n"
          ]
        }
      ]
    },
    {
      "cell_type": "code",
      "source": [
        "'''vit lab'''\n",
        "for i in range(1,10):\n",
        "  if i==1 or i==9:\n",
        "    for j in range(1,25):\n",
        "      print(\"*\",end=\"\")\n",
        "  elif i==2 or i==8:\n",
        "    for j in range (1,4):\n",
        "      for k in range(1,9):\n",
        "        if k==1 or k==7:\n",
        "          print(\"*\",end=\"\")\n",
        "        else:\n",
        "          print(\" \",end=\"\")\n",
        "  elif i==3 or i==7:\n",
        "    for j in range (1,4):\n",
        "      for k in range(1,9):\n",
        "        if k==2 or k==6:\n",
        "          print(\"*\",end=\"\")\n",
        "        else:\n",
        "          print(\" \",end=\"\")\n",
        "  elif i==4 or i==6:\n",
        "    for j in range (1,4):\n",
        "      for k in range(1,9):\n",
        "        if k==3 or k==5:\n",
        "          print(\"*\",end=\"\")\n",
        "        else:\n",
        "          print(\" \",end=\"\")\n",
        "  else:\n",
        "    for j in range(1,4):\n",
        "      for k in range(1,9):\n",
        "        if k==4:\n",
        "          print(\"*\",end=\"\")\n",
        "        else:\n",
        "          print(\" \",end=\"\")\n",
        "  print()\n",
        "\n"
      ],
      "metadata": {
        "colab": {
          "base_uri": "https://localhost:8080/"
        },
        "id": "cI0dq_9MLoKN",
        "outputId": "b3a072ba-52bc-4d7d-ad1f-8689b8efb510"
      },
      "execution_count": null,
      "outputs": [
        {
          "output_type": "stream",
          "name": "stdout",
          "text": [
            "************************\n",
            "*     * *     * *     * \n",
            " *   *   *   *   *   *  \n",
            "  * *     * *     * *   \n",
            "   *       *       *    \n",
            "  * *     * *     * *   \n",
            " *   *   *   *   *   *  \n",
            "*     * *     * *     * \n",
            "************************\n"
          ]
        }
      ]
    },
    {
      "cell_type": "code",
      "source": [
        "'''vit lab'''\n",
        "a=[]\n",
        "x=[]\n",
        "n=int(input(\"Enter no of sublists: \"))\n",
        "m=int(input(\"Enter no of elements: \"))\n",
        "z=0\n",
        "for i in range(n):\n",
        "  for j in range(m):\n",
        "    x.append(z)\n",
        "    z+=1\n",
        "  a.append(x)\n",
        "  x=[]\n",
        "b=[]\n",
        "for i in range(1,len(a)-1):\n",
        "  b.append(a[i])\n",
        "for i in range(len(b)):\n",
        "  b[i].pop(0)\n",
        "b.reverse()\n",
        "print(b)"
      ],
      "metadata": {
        "colab": {
          "base_uri": "https://localhost:8080/"
        },
        "id": "FBvxPABXTDx3",
        "outputId": "e63317e4-e9a2-48a6-ec64-15b9db2e8a80"
      },
      "execution_count": null,
      "outputs": [
        {
          "output_type": "stream",
          "name": "stdout",
          "text": [
            "Enter no of sublists: 5\n",
            "Enter no of elements: 4\n",
            "[[13, 14, 15], [9, 10, 11], [5, 6, 7]]\n"
          ]
        }
      ]
    },
    {
      "cell_type": "code",
      "source": [
        "'''vit lab'''\n",
        "start,end,sep=map(int,input().split())\n",
        "a=[]\n",
        "for i in range(1,end+1):\n",
        "  a.append(start)\n",
        "  start+=sep\n",
        "\n",
        "print(a)"
      ],
      "metadata": {
        "colab": {
          "base_uri": "https://localhost:8080/"
        },
        "id": "W7eE-HvHazol",
        "outputId": "a07de363-be33-40fd-b0f1-f82a55e266e2"
      },
      "execution_count": null,
      "outputs": [
        {
          "output_type": "stream",
          "name": "stdout",
          "text": [
            "1 10 10\n",
            "[1, 11, 21, 31, 41, 51, 61, 71, 81, 91]\n"
          ]
        }
      ]
    },
    {
      "cell_type": "code",
      "source": [
        "str='This,is a python program'\n",
        "l=str.split(',')\n",
        "l"
      ],
      "metadata": {
        "colab": {
          "base_uri": "https://localhost:8080/"
        },
        "id": "DXT_tU6Wzr1L",
        "outputId": "4861ff93-26b0-4c73-9ada-04dbb433c74b"
      },
      "execution_count": null,
      "outputs": [
        {
          "output_type": "execute_result",
          "data": {
            "text/plain": [
              "['This', 'is a python program']"
            ]
          },
          "metadata": {},
          "execution_count": 1
        }
      ]
    },
    {
      "cell_type": "code",
      "source": [
        "a,b=input().split()\n",
        "print(a,b)"
      ],
      "metadata": {
        "colab": {
          "base_uri": "https://localhost:8080/"
        },
        "id": "mUpsZ273-wU0",
        "outputId": "51c553ee-0fa5-454e-dd34-b4bca62a4de4"
      },
      "execution_count": null,
      "outputs": [
        {
          "output_type": "stream",
          "name": "stdout",
          "text": [
            "Neharsha Vishnu\n",
            "Neharsha Vishnu\n"
          ]
        }
      ]
    },
    {
      "cell_type": "code",
      "source": [
        "a=input().split()\n",
        "print(a)"
      ],
      "metadata": {
        "colab": {
          "base_uri": "https://localhost:8080/"
        },
        "id": "M_CpIxAMZAqX",
        "outputId": "1338ffed-50c6-45d6-ce3c-82a06aa8de39"
      },
      "execution_count": null,
      "outputs": [
        {
          "output_type": "stream",
          "name": "stdout",
          "text": [
            "a b c\n",
            "['a', 'b', 'c']\n"
          ]
        }
      ]
    },
    {
      "cell_type": "code",
      "source": [
        "a=\"Neharsha v a v a\"\n",
        "print(a.replace('v','a',1))\n",
        "\n",
        "a"
      ],
      "metadata": {
        "colab": {
          "base_uri": "https://localhost:8080/",
          "height": 72
        },
        "id": "XjydJHcD_k-D",
        "outputId": "cbad42ee-f063-48f8-d7ec-f8ce4a263023"
      },
      "execution_count": null,
      "outputs": [
        {
          "output_type": "stream",
          "name": "stdout",
          "text": [
            "Neharsha a a v a\n",
            "9\n"
          ]
        },
        {
          "output_type": "execute_result",
          "data": {
            "text/plain": [
              "'Neharsha v a v a'"
            ],
            "application/vnd.google.colaboratory.intrinsic+json": {
              "type": "string"
            }
          },
          "metadata": {},
          "execution_count": 30
        }
      ]
    },
    {
      "cell_type": "code",
      "source": [
        "#list operations\n",
        "[1,2,3]+"
      ],
      "metadata": {
        "id": "U00J-vZngT8z"
      },
      "execution_count": null,
      "outputs": []
    },
    {
      "cell_type": "code",
      "source": [
        "#string operations"
      ],
      "metadata": {
        "id": "eTzXINJunsO9"
      },
      "execution_count": null,
      "outputs": []
    },
    {
      "cell_type": "code",
      "source": [
        "str2=\"abc123\"\n",
        "print(str2.isalnum())\n",
        "str1=\"123@abc\"\n",
        "str1.isalnum()"
      ],
      "metadata": {
        "colab": {
          "base_uri": "https://localhost:8080/"
        },
        "id": "7jq_MTU6kdwa",
        "outputId": "828be5bf-20bb-4d77-c262-9db79e99ebdc"
      },
      "execution_count": null,
      "outputs": [
        {
          "output_type": "stream",
          "name": "stdout",
          "text": [
            "True\n"
          ]
        },
        {
          "output_type": "execute_result",
          "data": {
            "text/plain": [
              "False"
            ]
          },
          "metadata": {},
          "execution_count": 35
        }
      ]
    },
    {
      "cell_type": "code",
      "source": [
        "str1=\"123456\"\n",
        "print(str1.isnumeric())\n",
        "str2=\"123abc\"\n",
        "str2.isnumeric()"
      ],
      "metadata": {
        "colab": {
          "base_uri": "https://localhost:8080/"
        },
        "id": "K-hLUAeUkkDb",
        "outputId": "27025df5-127d-4070-8af3-a13550167b7b"
      },
      "execution_count": null,
      "outputs": [
        {
          "output_type": "stream",
          "name": "stdout",
          "text": [
            "True\n"
          ]
        },
        {
          "output_type": "execute_result",
          "data": {
            "text/plain": [
              "False"
            ]
          },
          "metadata": {},
          "execution_count": 37
        }
      ]
    },
    {
      "cell_type": "code",
      "source": [
        "str1=\"python is a language\"\n",
        "str2=str1[7:0:-3]\n",
        "print(str2)"
      ],
      "metadata": {
        "colab": {
          "base_uri": "https://localhost:8080/"
        },
        "id": "YpIHaUKamImq",
        "outputId": "e0cb8dc4-e03c-465a-d4c9-72dd1e18aece"
      },
      "execution_count": null,
      "outputs": [
        {
          "output_type": "stream",
          "name": "stdout",
          "text": [
            "ioy\n"
          ]
        }
      ]
    },
    {
      "cell_type": "code",
      "source": [
        "#Nested Dictionary IMP\n",
        "def count(event,food):\n",
        "  c=0\n",
        "  for k,v in event.items():\n",
        "    c+=v.get(food,0)\n",
        "  return c\n",
        "\n",
        "\n",
        "party={'dino':{'chips':2,'icecream':2},'bubu':{'sd':2,'chi':2},'ErriPu':{'cake':2,'icecream':1},'sai':{'sd':2,'chi':1}}\n",
        "print('the sd consumed in party are ',count(party,'sd'))"
      ],
      "metadata": {
        "id": "ymUAwyMbkKTK",
        "colab": {
          "base_uri": "https://localhost:8080/"
        },
        "outputId": "8e119529-e628-491d-e088-f4a88797db33"
      },
      "execution_count": null,
      "outputs": [
        {
          "output_type": "stream",
          "name": "stdout",
          "text": [
            "the sd consumed in party are  4\n"
          ]
        }
      ]
    },
    {
      "cell_type": "code",
      "source": [
        "import math\n",
        "def p(x):\n",
        "  c=False\n",
        "  for i in range(2,int(math.sqrt(x)+1)):\n",
        "    if x%i==0:\n",
        "      c=True\n",
        "  if c==False:\n",
        "    return True\n",
        "  return False\n",
        "\n",
        "def Sumofprime(n):\n",
        "  for i in range(n):\n",
        "    for j in range(n):\n",
        "      if p(i) and p(j):\n",
        "        if i+j==n:\n",
        "           print('one of the possiblities is: ',i,'+',j)\n",
        "\n",
        "\n",
        "\n",
        "\n",
        "  return None\n",
        "n=input()\n",
        "if n.isdigit():\n",
        "  n=int(n)\n",
        "  if n<0:\n",
        "    print('given input is negative try to give positive input')\n",
        "  else:\n",
        "    Sumofprime(n)\n",
        "else:\n",
        "  print('Given input is not matching the input requirement try to give a positive integer as input')\n",
        "\n"
      ],
      "metadata": {
        "colab": {
          "base_uri": "https://localhost:8080/"
        },
        "id": "VSrxvWEUfpXL",
        "outputId": "0946ea76-a3a7-4642-ad21-4b9cdeb744f2"
      },
      "execution_count": null,
      "outputs": [
        {
          "output_type": "stream",
          "name": "stdout",
          "text": [
            "40\n",
            "one of the possiblities is:  3 + 37\n",
            "one of the possiblities is:  11 + 29\n",
            "one of the possiblities is:  17 + 23\n"
          ]
        }
      ]
    },
    {
      "cell_type": "markdown",
      "source": [],
      "metadata": {
        "id": "UyNI1yJtwIfC"
      }
    },
    {
      "cell_type": "code",
      "source": [
        "\n",
        "def p(x):\n",
        "  c=False\n",
        "  if x<=1:\n",
        "    return False\n",
        "  else:\n",
        "      for i in range(2,x):\n",
        "            if x%i==0:\n",
        "               c=True\n",
        "  if c==False:\n",
        "      return True\n",
        "\n",
        "  return False\n",
        "\n",
        "def digit(x):\n",
        "  digits=[]\n",
        "  while(x>0):\n",
        "    digits.append(x%10)\n",
        "    x=int(x/10)\n",
        "  c=False\n",
        "  for i in range(len(digits)):\n",
        "    if p(digits[i])==False:\n",
        "      c=True\n",
        "  if c==False:\n",
        "    return True\n",
        "  return False\n",
        "def FindPrime(v):\n",
        "  c=0\n",
        "  for i in range(1,10000):\n",
        "    if digit(i):\n",
        "      num=i\n",
        "      print(i)\n",
        "      c+=1\n",
        "    if c>=v:\n",
        "      break\n",
        "  print('The required prime number is ',num)\n",
        "\n",
        "\n",
        "c=int(input('Which prime digit number you require: '))\n",
        "\n",
        "FindPrime(c)\n",
        "\n",
        "\n",
        "\n"
      ],
      "metadata": {
        "id": "BgMcWMWOkjRW",
        "colab": {
          "base_uri": "https://localhost:8080/"
        },
        "outputId": "f5024322-db3d-4522-f97b-cb2d803aaf50"
      },
      "execution_count": null,
      "outputs": [
        {
          "output_type": "stream",
          "name": "stdout",
          "text": [
            "Which prime digit number you require: 10\n",
            "2\n",
            "3\n",
            "5\n",
            "7\n",
            "22\n",
            "23\n",
            "25\n",
            "27\n",
            "32\n",
            "33\n",
            "The required prime number is  33\n"
          ]
        }
      ]
    },
    {
      "cell_type": "code",
      "source": [
        "import math\n",
        "def p(x):\n",
        "\n",
        "  d=[2,3,5,7]\n",
        "  if x in d:\n",
        "    return True\n",
        "  else:\n",
        "    return False\n",
        "\n",
        "def digit(x):\n",
        "  digits=[]\n",
        "  while(x>0):\n",
        "    digits.append(x%10)\n",
        "    x=int(x/10)\n",
        "  c=False\n",
        "  for i in range(len(digits)):\n",
        "    if p(digits[i])==False:\n",
        "      c=True\n",
        "  if c==False:\n",
        "    return True\n",
        "  return False\n",
        "def FindPrime(v):\n",
        "  c=0\n",
        "  for i in range(1,10000):\n",
        "    if digit(i):\n",
        "      num=i\n",
        "      print(i)\n",
        "      c+=1\n",
        "    if c>=v:\n",
        "      break\n",
        "  print('The required prime number is ',num)\n",
        "\n",
        "\n",
        "c=int(input('Which prime digit number you require: '))\n",
        "\n",
        "FindPrime(c)\n",
        "\n",
        "\n",
        "\n"
      ],
      "metadata": {
        "colab": {
          "base_uri": "https://localhost:8080/"
        },
        "id": "b8LE_B-Bw30q",
        "outputId": "4e5ff09f-ab91-4f3f-8fe2-a0b07c68c7c8"
      },
      "execution_count": null,
      "outputs": [
        {
          "output_type": "stream",
          "name": "stdout",
          "text": [
            "Which prime digit number you require: 10\n",
            "2\n",
            "3\n",
            "5\n",
            "7\n",
            "22\n",
            "23\n",
            "25\n",
            "27\n",
            "32\n",
            "33\n",
            "The required prime number is  33\n"
          ]
        }
      ]
    },
    {
      "cell_type": "code",
      "source": [
        "l=[2,3,5,7]\n",
        "c=len(l)\n",
        "n=int(input('enter'))\n",
        "for i in range(int(n//c)):\n",
        "  for j in range(c):\n",
        "    l.append(l[i]*10+l[j])\n",
        "print(l[:n])"
      ],
      "metadata": {
        "id": "K6y5cLkMEVTB",
        "colab": {
          "base_uri": "https://localhost:8080/"
        },
        "outputId": "364922aa-31f5-4637-f7ab-5dc6e969e2fa"
      },
      "execution_count": null,
      "outputs": [
        {
          "output_type": "stream",
          "name": "stdout",
          "text": [
            "enter22\n",
            "[2, 3, 5, 7, 22, 23, 25, 27, 32, 33, 35, 37, 52, 53, 55, 57, 72, 73, 75, 77, 222, 223]\n"
          ]
        }
      ]
    },
    {
      "cell_type": "code",
      "source": [
        "def pri(*vargs):\n",
        "  for i in vargs:\n",
        "    print(i)\n",
        "  return None\n",
        "pri(1,2,3,4,5) in.\n",
        "def pr(str='Neharsha Vishnu',val=10):#because of stack frame might be its taking the second one\n",
        "  print(str,val)\n",
        "pr()"
      ],
      "metadata": {
        "colab": {
          "base_uri": "https://localhost:8080/"
        },
        "id": "ZskSn34DUEfa",
        "outputId": "e5ffd365-7dd3-4ba9-c45e-20b7177459a3"
      },
      "execution_count": null,
      "outputs": [
        {
          "output_type": "stream",
          "name": "stdout",
          "text": [
            "1\n",
            "2\n",
            "3\n",
            "4\n",
            "5\n",
            "Neharsha Vishnu 10\n"
          ]
        }
      ]
    },
    {
      "cell_type": "code",
      "source": [
        "def sp(n):\n",
        "  sum=0\n",
        "  product=1\n",
        "  while(n>0):\n",
        "    if n%10==0:\n",
        "      n=n//10\n",
        "      continue\n",
        "    sum+=n%10\n",
        "    product*=n%10\n",
        "    n=n//10\n",
        "  print('sum=',sum)\n",
        "  print('product=',product)\n",
        "n=int(input('enter the no: '))\n",
        "sp(n)"
      ],
      "metadata": {
        "id": "va-hbSisNnxH"
      },
      "execution_count": null,
      "outputs": []
    },
    {
      "cell_type": "code",
      "source": [
        "def cp(n):\n",
        "  pe=1\n",
        "  po=1\n",
        "  ct=1\n",
        "  while(n>0):\n",
        "    if ct%2==0:\n",
        "      if n%10==0:\n",
        "        n=n//10\n",
        "        ct+=1\n",
        "        continue\n",
        "      else:\n",
        "        pe*=n%10\n",
        "        n=n//10\n",
        "        ct+=1\n",
        "    else:\n",
        "        if n%10==0:\n",
        "          n=n//10\n",
        "          ct+=1\n",
        "          continue\n",
        "        else:\n",
        "           po*=n%10\n",
        "           n=n//10\n",
        "           ct+=1\n",
        "  if pe==po:\n",
        "    print('equal')\n",
        "  else:\n",
        "    print('not equal')\n",
        "n=int(input('enter number to be checked: '))\n",
        "cp(n)\n",
        "\n",
        "\n",
        "\n"
      ],
      "metadata": {
        "colab": {
          "base_uri": "https://localhost:8080/"
        },
        "id": "s8ko1d5QgZQl",
        "outputId": "eabcea88-1891-414d-93c3-915dd7a57f58"
      },
      "execution_count": null,
      "outputs": [
        {
          "output_type": "stream",
          "name": "stdout",
          "text": [
            "enter number to be checked: 3223\n",
            "equal\n"
          ]
        }
      ]
    },
    {
      "cell_type": "code",
      "source": [
        "def cre(n):\n",
        "  a=[]\n",
        "  for i in range(len(n)):\n",
        "    c=0\n",
        "    for j in range(i+1,len(n)):\n",
        "      if n[i]>n[j]:\n",
        "        c+=1\n",
        "    a.append(c)\n",
        "  print(a)\n",
        "n=input('Enter the elements: ').split()\n",
        "for i in range(len(n)):\n",
        "  n[i]=int(n[i])\n",
        "cre(n)"
      ],
      "metadata": {
        "colab": {
          "base_uri": "https://localhost:8080/"
        },
        "id": "0BqHq1ddiF72",
        "outputId": "a2c771ed-e5f2-4f59-b8fd-4909bf2d5a55"
      },
      "execution_count": null,
      "outputs": [
        {
          "output_type": "stream",
          "name": "stdout",
          "text": [
            "Enter the elements: 5 4 31 2 1\n",
            "[3, 2, 2, 1, 0]\n"
          ]
        }
      ]
    },
    {
      "cell_type": "code",
      "source": [
        "l=[2,1,0,1,2]\n",
        "if l==l[::-1]:\n",
        "  print('palindrome')\n",
        "else:\n",
        "  print('not palindrome')"
      ],
      "metadata": {
        "id": "xnipQBsJjrRl",
        "colab": {
          "base_uri": "https://localhost:8080/"
        },
        "outputId": "5b1d191c-cb08-4afd-8683-b2bd76f90e3d"
      },
      "execution_count": null,
      "outputs": [
        {
          "output_type": "stream",
          "name": "stdout",
          "text": [
            "palindrome\n"
          ]
        }
      ]
    },
    {
      "cell_type": "code",
      "source": [
        "def pal(n):\n",
        "  n=str(n)\n",
        "\n",
        "  c=len(n)\n",
        "\n",
        "  for i in range((c//2)+1):\n",
        "    if n[i]!=n[c-i-1]:\n",
        "      return False\n",
        "  return True\n",
        "def pa(n):\n",
        "  for i in range(len(n)):\n",
        "    if not pal(n[i]):\n",
        "      return False\n",
        "  return True\n",
        "n=[222,121,313]\n",
        "if pa(n):\n",
        "  print('palin array')\n",
        "else:\n",
        "  print('not palin array')\n"
      ],
      "metadata": {
        "id": "usqvoiT6p5n6",
        "colab": {
          "base_uri": "https://localhost:8080/"
        },
        "outputId": "7587bc76-8670-4ebf-a8ba-0bcff853aeb1"
      },
      "execution_count": null,
      "outputs": [
        {
          "output_type": "stream",
          "name": "stdout",
          "text": [
            "palin array\n"
          ]
        }
      ]
    },
    {
      "cell_type": "code",
      "source": [
        "l1=[3,1,2,4,5]\n",
        "l2=sorted(l1)\n",
        "print(l2)\n",
        "l3=list(reversed(l1))\n",
        "print(l3)\n"
      ],
      "metadata": {
        "id": "7CH-i1GFrXVk",
        "colab": {
          "base_uri": "https://localhost:8080/"
        },
        "outputId": "afbf57dc-7793-44bc-cc72-3b2a0f191b4a"
      },
      "execution_count": null,
      "outputs": [
        {
          "output_type": "stream",
          "name": "stdout",
          "text": [
            "[1, 2, 3, 4, 5]\n",
            "[5, 4, 2, 1, 3]\n"
          ]
        }
      ]
    },
    {
      "cell_type": "code",
      "source": [
        "#rotate the elements of the list every kth element\n",
        "k=int(input('Enter k value: '))\n",
        "n=int(input('Enter no of elements: '))\n",
        "a=[]\n",
        "for i in range(1,11):\n",
        "  a.append(i)\n",
        "i=1\n",
        "x=n/k\n",
        "c=0\n",
        "while(i<=x):\n",
        "  j=0\n",
        "\n",
        "  while(j<=x/2):\n",
        "    temp=a[c*k+j]\n",
        "    a[k*c+j]=a[(k*i)-1-j]\n",
        "    a[(k*(i))-1-j]=temp\n",
        "    j+=1\n",
        "  i+=1\n",
        "  c+=1\n",
        "print(a)\n"
      ],
      "metadata": {
        "colab": {
          "base_uri": "https://localhost:8080/"
        },
        "id": "KjlUqnCAcj-5",
        "outputId": "8e2bb4b0-9ddd-4213-d120-fcb1b0413632"
      },
      "execution_count": null,
      "outputs": [
        {
          "output_type": "stream",
          "name": "stdout",
          "text": [
            "Enter k value: 3\n",
            "Enter no of elements: 10\n",
            "[3, 2, 1, 6, 5, 4, 9, 8, 7, 10]\n"
          ]
        }
      ]
    },
    {
      "cell_type": "code",
      "source": [
        "k=int(input('E: '))\n",
        "n=int(input('E: '))\n",
        "a=[]\n",
        "c=[]\n",
        "for i in range(n):\n",
        "  a.append(i)\n",
        "for i in range(1,n//k+1):\n",
        "  for j in range(k):\n",
        "    m=a[2-j]\n",
        "    c.append(m)\n",
        "    a.pop(2-j)\n",
        "while len(c)<n:\n",
        "  c.append(a[len(a)-1])\n",
        "print(c)\n",
        "\n"
      ],
      "metadata": {
        "id": "9aXuCNHIQpFJ",
        "colab": {
          "base_uri": "https://localhost:8080/"
        },
        "outputId": "5d2c9b73-1e53-4dea-bb1b-eaf623c747a1"
      },
      "execution_count": null,
      "outputs": [
        {
          "output_type": "stream",
          "name": "stdout",
          "text": [
            "E: 3\n",
            "E: 10\n",
            "[2, 1, 0, 5, 4, 3, 8, 7, 6, 9]\n"
          ]
        }
      ]
    },
    {
      "cell_type": "code",
      "source": [
        "st2='Neharsha'\n",
        "st1='Vishnu'\n",
        "st=''\n",
        "\n",
        "for i in range(max(len(st1),len(st2))):\n",
        "    if i<len(st1):\n",
        "      st+=st1[i]\n",
        "    if i<len(st2):\n",
        "      st+=st2[i]\n",
        "\n",
        "print(st)\n"
      ],
      "metadata": {
        "colab": {
          "base_uri": "https://localhost:8080/"
        },
        "id": "Ik50xQQYYt5Q",
        "outputId": "5cde5c40-de00-4fb6-88f1-19d516ba6999"
      },
      "execution_count": null,
      "outputs": [
        {
          "output_type": "stream",
          "name": "stdout",
          "text": [
            "VNieshhanrusha\n"
          ]
        }
      ]
    },
    {
      "cell_type": "code",
      "source": [
        "n=input('Enter the line: ')\n",
        "if '.' in n:\n",
        "  n=n.split('.')\n",
        "  n=n[0]\n",
        "n=n[::-1]\n",
        "n=n.split()\n",
        "n=n[::-1]\n",
        "n.append('\\b.')\n",
        "print(' '.join(n))\n"
      ],
      "metadata": {
        "colab": {
          "base_uri": "https://localhost:8080/"
        },
        "id": "euXRwtcln4HB",
        "outputId": "1d5b7738-dca5-4dfc-81ca-b742d69ef606"
      },
      "execution_count": null,
      "outputs": [
        {
          "output_type": "stream",
          "name": "stdout",
          "text": [
            "Enter the line: this is c program\n",
            "siht si c margorp \b.\n"
          ]
        }
      ]
    },
    {
      "cell_type": "code",
      "source": [
        "n=input('Enter the array: ')\n",
        "c=int(input('Enter the sum: '))\n",
        "n=n.split(' ')\n",
        "d=False\n",
        "for i in range(len(n)):\n",
        "  n[i]=int(n[i])\n",
        "\n",
        "for i in range(len(n)):\n",
        "  for j in range(i+1,len(n)):\n",
        "    if n[i]+n[j]==c:\n",
        "      print('sum found between the indexes',i,' and ',j,'.')\n",
        "      d=True\n",
        "if d==False:\n",
        "  print('No subarray found')\n",
        "\n"
      ],
      "metadata": {
        "colab": {
          "base_uri": "https://localhost:8080/"
        },
        "id": "g6k1w4knrNCy",
        "outputId": "e0aa075d-1078-4847-e846-983728c16c20"
      },
      "execution_count": null,
      "outputs": [
        {
          "output_type": "stream",
          "name": "stdout",
          "text": [
            "Enter the array: 1 1 2 0 4\n",
            "Enter the sum: 2\n",
            "sum found between the indexes 0  and  1 .\n",
            "sum found between the indexes 2  and  3 .\n"
          ]
        }
      ]
    },
    {
      "cell_type": "code",
      "source": [
        "n=input('Enter the array: ')\n",
        "n=n.split(' ')\n",
        "for i in range(len(n)):\n",
        "  n[i]=int(n[i])\n",
        "c=n[len(n)-1]\n",
        "print(c,end=', ')\n",
        "for i in range(len(n)-1,-1,-1):\n",
        "  if c<n[i]:\n",
        "    c=n[i]\n",
        "    print(c,end=', ')\n",
        "else:\n",
        "  print('\\b\\b')\n",
        "\n"
      ],
      "metadata": {
        "colab": {
          "base_uri": "https://localhost:8080/",
          "height": 269
        },
        "id": "l_bIJ9va1c0A",
        "outputId": "76997ae8-743e-4db8-a628-f828483f9d61"
      },
      "execution_count": null,
      "outputs": [
        {
          "name": "stdout",
          "output_type": "stream",
          "text": [
            "Enter the array: a a b c d a g e f \n"
          ]
        },
        {
          "output_type": "error",
          "ename": "ValueError",
          "evalue": "ignored",
          "traceback": [
            "\u001b[0;31m---------------------------------------------------------------------------\u001b[0m",
            "\u001b[0;31mValueError\u001b[0m                                Traceback (most recent call last)",
            "\u001b[0;32m<ipython-input-31-87faf8d95553>\u001b[0m in \u001b[0;36m<cell line: 3>\u001b[0;34m()\u001b[0m\n\u001b[1;32m      2\u001b[0m \u001b[0mn\u001b[0m\u001b[0;34m=\u001b[0m\u001b[0mn\u001b[0m\u001b[0;34m.\u001b[0m\u001b[0msplit\u001b[0m\u001b[0;34m(\u001b[0m\u001b[0;34m' '\u001b[0m\u001b[0;34m)\u001b[0m\u001b[0;34m\u001b[0m\u001b[0;34m\u001b[0m\u001b[0m\n\u001b[1;32m      3\u001b[0m \u001b[0;32mfor\u001b[0m \u001b[0mi\u001b[0m \u001b[0;32min\u001b[0m \u001b[0mrange\u001b[0m\u001b[0;34m(\u001b[0m\u001b[0mlen\u001b[0m\u001b[0;34m(\u001b[0m\u001b[0mn\u001b[0m\u001b[0;34m)\u001b[0m\u001b[0;34m)\u001b[0m\u001b[0;34m:\u001b[0m\u001b[0;34m\u001b[0m\u001b[0;34m\u001b[0m\u001b[0m\n\u001b[0;32m----> 4\u001b[0;31m   \u001b[0mn\u001b[0m\u001b[0;34m[\u001b[0m\u001b[0mi\u001b[0m\u001b[0;34m]\u001b[0m\u001b[0;34m=\u001b[0m\u001b[0mint\u001b[0m\u001b[0;34m(\u001b[0m\u001b[0mn\u001b[0m\u001b[0;34m[\u001b[0m\u001b[0mi\u001b[0m\u001b[0;34m]\u001b[0m\u001b[0;34m)\u001b[0m\u001b[0;34m\u001b[0m\u001b[0;34m\u001b[0m\u001b[0m\n\u001b[0m\u001b[1;32m      5\u001b[0m \u001b[0mc\u001b[0m\u001b[0;34m=\u001b[0m\u001b[0mn\u001b[0m\u001b[0;34m[\u001b[0m\u001b[0mlen\u001b[0m\u001b[0;34m(\u001b[0m\u001b[0mn\u001b[0m\u001b[0;34m)\u001b[0m\u001b[0;34m-\u001b[0m\u001b[0;36m1\u001b[0m\u001b[0;34m]\u001b[0m\u001b[0;34m\u001b[0m\u001b[0;34m\u001b[0m\u001b[0m\n\u001b[1;32m      6\u001b[0m \u001b[0mprint\u001b[0m\u001b[0;34m(\u001b[0m\u001b[0mc\u001b[0m\u001b[0;34m,\u001b[0m\u001b[0mend\u001b[0m\u001b[0;34m=\u001b[0m\u001b[0;34m', '\u001b[0m\u001b[0;34m)\u001b[0m\u001b[0;34m\u001b[0m\u001b[0;34m\u001b[0m\u001b[0m\n",
            "\u001b[0;31mValueError\u001b[0m: invalid literal for int() with base 10: 'a'"
          ]
        }
      ]
    },
    {
      "cell_type": "code",
      "source": [
        "l=['1','2','3']\n",
        "l1=list(map(int,l))\n",
        "print(l1)\n",
        "l1.reverse()\n",
        "print(l1)"
      ],
      "metadata": {
        "colab": {
          "base_uri": "https://localhost:8080/"
        },
        "id": "1BSqfPHu3mFK",
        "outputId": "c71f1719-ee31-4ae8-92a6-2f36928e9e69"
      },
      "execution_count": null,
      "outputs": [
        {
          "output_type": "stream",
          "name": "stdout",
          "text": [
            "[1, 2, 3]\n",
            "[3, 2, 1]\n"
          ]
        }
      ]
    },
    {
      "cell_type": "code",
      "source": [
        "if __name__ == '__main__':\n",
        "    N = int(input())\n",
        "    l=['insert','print','remove','append','sort','pop','reverse']\n",
        "    y=[]\n",
        "    for i in range(N):\n",
        "        x=input()\n",
        "        y.append(x.split(' '))\n",
        "    z=[]\n",
        "    print(y)\n",
        "    for i in range(len(y)):\n",
        "        if y[i][0]==l[0]:\n",
        "            z.insert(y[i][1],y[i][2])\n",
        "        elif y[i][0]==l[1]:\n",
        "            print(z)\n",
        "        elif y[i][0]==l[2]:\n",
        "            z.remove(y[i][1])\n",
        "        elif y[i][0]==l[3]:\n",
        "            z.append(y[i][1])\n",
        "        elif y[i][0]==l[4]:\n",
        "            z.sort()\n",
        "        elif y[i][0]==l[5]:\n",
        "            z.pop()\n",
        "        elif y[i][0]==l[6]:\n",
        "            z.reverse()\n",
        "    print(z)\n",
        "\n"
      ],
      "metadata": {
        "colab": {
          "base_uri": "https://localhost:8080/"
        },
        "id": "BgUS3Mykk2QE",
        "outputId": "6d314fd6-f09c-464e-bd95-4884221a95f5"
      },
      "execution_count": null,
      "outputs": [
        {
          "output_type": "stream",
          "name": "stdout",
          "text": [
            "2\n",
            "append 3\n",
            "print\n",
            "[['append', '3'], ['print']]\n",
            "['3']\n",
            "['3']\n"
          ]
        }
      ]
    },
    {
      "cell_type": "code",
      "source": [
        "s='aacdb'\n",
        "s1='gafd'\n",
        "m=[]\n",
        "n=[]\n",
        "for i in range(len(s)):\n",
        "  m.append(s[i])\n",
        "for i in range(len(s1)):\n",
        "  n.append(s1[i])\n",
        "m=set(m)\n",
        "n=set(n)\n",
        "x=m.symmetric_difference(s1)\n",
        "x=list(x)\n",
        "print(''.join(x))"
      ],
      "metadata": {
        "colab": {
          "base_uri": "https://localhost:8080/"
        },
        "id": "q6djf_rhrffO",
        "outputId": "e26c4666-60ae-4cd7-df06-dd0922fd18ea"
      },
      "execution_count": null,
      "outputs": [
        {
          "output_type": "stream",
          "name": "stdout",
          "text": [
            "cfgb\n"
          ]
        }
      ]
    },
    {
      "cell_type": "code",
      "source": [
        "s=input()\n",
        "s1=input()\n",
        "st=''\n",
        "for i in range(len(s)):\n",
        "  x=False\n",
        "  for j in range(len(s1)):\n",
        "    if s[i]==s1[j]:\n",
        "      x=True\n",
        "  if x==False:\n",
        "    st+=s[i]\n",
        "for i in range(len(s1)):\n",
        "  x=False\n",
        "  for j in range(len(s)):\n",
        "    if s1[i]==s[j]:\n",
        "      x=True\n",
        "  if x==False:\n",
        "    st+=s1[i]\n",
        "if st!='':\n",
        "  print(st)\n",
        "else:\n",
        "  print(-1)"
      ],
      "metadata": {
        "colab": {
          "base_uri": "https://localhost:8080/"
        },
        "id": "D-vFMgi0uj5b",
        "outputId": "0bb4b3ee-a76e-4f11-9b4f-5d497cd36a31"
      },
      "execution_count": null,
      "outputs": [
        {
          "output_type": "stream",
          "name": "stdout",
          "text": [
            "qqq\n",
            "qqq\n",
            "-1\n"
          ]
        }
      ]
    },
    {
      "cell_type": "code",
      "source": [
        "n=int(input())\n",
        "for i in range(1,n+1):\n",
        "    width=2*n-1\n",
        "    s=''\n",
        "    for j in range(0,i*2-1):\n",
        "        s+='H'\n",
        "    print(s.center(width,' '))\n",
        "for i in range(n+1):\n",
        "    for j in range(n//2):\n",
        "        print(' ',end='')\n",
        "    for j in range(n):\n",
        "        print('H',end='')\n",
        "    for j in range(n*3):\n",
        "        print(' ',end='')\n",
        "    for j in range(n):\n",
        "        print('H',end='')\n",
        "    print()\n",
        "for i in range((n//2)+1):\n",
        "    for j in range(n//2):\n",
        "        print(' ',end='')\n",
        "    for j in range(n*5):\n",
        "        print('H',end='')\n",
        "    print()\n",
        "for i in range(n+1):\n",
        "    for j in range(n//2):\n",
        "        print(' ',end='')\n",
        "    for j in range(n):\n",
        "        print('H',end='')\n",
        "    for j in range(n*3):\n",
        "        print(' ',end='')\n",
        "    for j in range(n):\n",
        "        print('H',end='')\n",
        "    print()\n",
        "for i in range(n):\n",
        "    width=(2*n-1)\n",
        "    for j in range(n//2):\n",
        "        print(' ',end='')\n",
        "    for j in range(n*4-n//2):\n",
        "        print(' ',end='')\n",
        "    s=''\n",
        "    for j in range(2*n-1-(i*2),0,-1):\n",
        "        s+='H'\n",
        "    print(s.center(width,' '))\n",
        "\n",
        "\n",
        "\n",
        "\n"
      ],
      "metadata": {
        "colab": {
          "base_uri": "https://localhost:8080/"
        },
        "id": "_Lzi67A5xc_Z",
        "outputId": "265a82dc-d2bb-430f-f70f-603074fdf21a"
      },
      "execution_count": null,
      "outputs": [
        {
          "output_type": "stream",
          "name": "stdout",
          "text": [
            "6\n",
            "     H     \n",
            "    HHH    \n",
            "   HHHHH   \n",
            "  HHHHHHH  \n",
            " HHHHHHHHH \n",
            "HHHHHHHHHHH\n",
            "   HHHHHH                  HHHHHH\n",
            "   HHHHHH                  HHHHHH\n",
            "   HHHHHH                  HHHHHH\n",
            "   HHHHHH                  HHHHHH\n",
            "   HHHHHH                  HHHHHH\n",
            "   HHHHHH                  HHHHHH\n",
            "   HHHHHH                  HHHHHH\n",
            "   HHHHHHHHHHHHHHHHHHHHHHHHHHHHHH\n",
            "   HHHHHHHHHHHHHHHHHHHHHHHHHHHHHH\n",
            "   HHHHHHHHHHHHHHHHHHHHHHHHHHHHHH\n",
            "   HHHHHHHHHHHHHHHHHHHHHHHHHHHHHH\n",
            "   HHHHHH                  HHHHHH\n",
            "   HHHHHH                  HHHHHH\n",
            "   HHHHHH                  HHHHHH\n",
            "   HHHHHH                  HHHHHH\n",
            "   HHHHHH                  HHHHHH\n",
            "   HHHHHH                  HHHHHH\n",
            "   HHHHHH                  HHHHHH\n",
            "                        HHHHHHHHHHH\n",
            "                         HHHHHHHHH \n",
            "                          HHHHHHH  \n",
            "                           HHHHH   \n",
            "                            HHH    \n",
            "                             H     \n"
          ]
        }
      ]
    },
    {
      "cell_type": "code",
      "source": [
        "# Enter your code here. Read input from STDIN. Print output to STDOUT\n",
        "n=input().split()\n",
        "m=int(n[1])\n",
        "n=int(n[0])\n",
        "j=1\n",
        "for i in range(n//2):\n",
        "    s=''\n",
        "    s1='.|.'\n",
        "    s=s1*j\n",
        "    print(s.center(m,'-'))\n",
        "    j+=2\n",
        "print('WELCOME'.center(m,'-'))\n",
        "j=(m-6)//3\n",
        "for i in range(n//2):\n",
        "  s=''\n",
        "  s1='.|.'\n",
        "  s=s1*j\n",
        "  print(s.center(m,'-'))\n",
        "  j-=2"
      ],
      "metadata": {
        "colab": {
          "base_uri": "https://localhost:8080/"
        },
        "id": "JikEUmnWprP4",
        "outputId": "36928d2f-13b3-4669-fd27-b475f91d1b77"
      },
      "execution_count": null,
      "outputs": [
        {
          "output_type": "stream",
          "name": "stdout",
          "text": [
            "7 21\n",
            "---------.|.---------\n",
            "------.|..|..|.------\n",
            "---.|..|..|..|..|.---\n",
            "-------WELCOME-------\n",
            "---.|..|..|..|..|.---\n",
            "------.|..|..|.------\n",
            "---------.|.---------\n"
          ]
        }
      ]
    },
    {
      "cell_type": "code",
      "source": [
        "def print_rangoli(size):\n",
        "    # your code goes here\n",
        "    l=[]\n",
        "    for i in range(97,123):\n",
        "        l.append(i)\n",
        "    a=[]\n",
        "    for i in range(size):\n",
        "      if len(a)==0:\n",
        "        a.append(chr(l[size-1-i]))\n",
        "      else:\n",
        "        x=len(a)//2\n",
        "        a.insert(x,a[x])\n",
        "        a.insert(len(a)//2,chr(l[size-1-i]))\n",
        "      s=''\n",
        "      for j in range(len(a)):\n",
        "        s+=a[j]\n",
        "        s+='-'\n",
        "        if i==size-1 and j==len(a)-1:\n",
        "          s+='\\b'\n",
        "      print(s.center(size*4-3,'-'))\n",
        "    for i in range(size,1,-1):\n",
        "      for i in range(2):\n",
        "        a.pop(len(a)//2)\n",
        "      s=''\n",
        "      for i in range(len(a)):\n",
        "        s+=a[i]\n",
        "        s+='-'\n",
        "      print(s.center(size*4-3,'-'))\n",
        "\n",
        "if __name__ == '__main__':\n",
        "    n = int(input())\n",
        "    print_rangoli(n)"
      ],
      "metadata": {
        "colab": {
          "base_uri": "https://localhost:8080/"
        },
        "id": "HOJ0is3ZA7M_",
        "outputId": "52ef11c3-b37d-4cef-97ce-520597e15eab"
      },
      "execution_count": null,
      "outputs": [
        {
          "output_type": "stream",
          "name": "stdout",
          "text": [
            "25\n",
            "------------------------------------------------y------------------------------------------------\n",
            "----------------------------------------------y-x-y----------------------------------------------\n",
            "--------------------------------------------y-x-w-x-y--------------------------------------------\n",
            "------------------------------------------y-x-w-v-w-x-y------------------------------------------\n",
            "----------------------------------------y-x-w-v-u-v-w-x-y----------------------------------------\n",
            "--------------------------------------y-x-w-v-u-t-u-v-w-x-y--------------------------------------\n",
            "------------------------------------y-x-w-v-u-t-s-t-u-v-w-x-y------------------------------------\n",
            "----------------------------------y-x-w-v-u-t-s-r-s-t-u-v-w-x-y----------------------------------\n",
            "--------------------------------y-x-w-v-u-t-s-r-q-r-s-t-u-v-w-x-y--------------------------------\n",
            "------------------------------y-x-w-v-u-t-s-r-q-p-q-r-s-t-u-v-w-x-y------------------------------\n",
            "----------------------------y-x-w-v-u-t-s-r-q-p-o-p-q-r-s-t-u-v-w-x-y----------------------------\n",
            "--------------------------y-x-w-v-u-t-s-r-q-p-o-n-o-p-q-r-s-t-u-v-w-x-y--------------------------\n",
            "------------------------y-x-w-v-u-t-s-r-q-p-o-n-m-n-o-p-q-r-s-t-u-v-w-x-y------------------------\n",
            "----------------------y-x-w-v-u-t-s-r-q-p-o-n-m-l-m-n-o-p-q-r-s-t-u-v-w-x-y----------------------\n",
            "--------------------y-x-w-v-u-t-s-r-q-p-o-n-m-l-k-l-m-n-o-p-q-r-s-t-u-v-w-x-y--------------------\n",
            "------------------y-x-w-v-u-t-s-r-q-p-o-n-m-l-k-j-k-l-m-n-o-p-q-r-s-t-u-v-w-x-y------------------\n",
            "----------------y-x-w-v-u-t-s-r-q-p-o-n-m-l-k-j-i-j-k-l-m-n-o-p-q-r-s-t-u-v-w-x-y----------------\n",
            "--------------y-x-w-v-u-t-s-r-q-p-o-n-m-l-k-j-i-h-i-j-k-l-m-n-o-p-q-r-s-t-u-v-w-x-y--------------\n",
            "------------y-x-w-v-u-t-s-r-q-p-o-n-m-l-k-j-i-h-g-h-i-j-k-l-m-n-o-p-q-r-s-t-u-v-w-x-y------------\n",
            "----------y-x-w-v-u-t-s-r-q-p-o-n-m-l-k-j-i-h-g-f-g-h-i-j-k-l-m-n-o-p-q-r-s-t-u-v-w-x-y----------\n",
            "--------y-x-w-v-u-t-s-r-q-p-o-n-m-l-k-j-i-h-g-f-e-f-g-h-i-j-k-l-m-n-o-p-q-r-s-t-u-v-w-x-y--------\n",
            "------y-x-w-v-u-t-s-r-q-p-o-n-m-l-k-j-i-h-g-f-e-d-e-f-g-h-i-j-k-l-m-n-o-p-q-r-s-t-u-v-w-x-y------\n",
            "----y-x-w-v-u-t-s-r-q-p-o-n-m-l-k-j-i-h-g-f-e-d-c-d-e-f-g-h-i-j-k-l-m-n-o-p-q-r-s-t-u-v-w-x-y----\n",
            "--y-x-w-v-u-t-s-r-q-p-o-n-m-l-k-j-i-h-g-f-e-d-c-b-c-d-e-f-g-h-i-j-k-l-m-n-o-p-q-r-s-t-u-v-w-x-y--\n",
            "y-x-w-v-u-t-s-r-q-p-o-n-m-l-k-j-i-h-g-f-e-d-c-b-a-b-c-d-e-f-g-h-i-j-k-l-m-n-o-p-q-r-s-t-u-v-w-x-y-\b\n",
            "--y-x-w-v-u-t-s-r-q-p-o-n-m-l-k-j-i-h-g-f-e-d-c-b-c-d-e-f-g-h-i-j-k-l-m-n-o-p-q-r-s-t-u-v-w-x-y--\n",
            "----y-x-w-v-u-t-s-r-q-p-o-n-m-l-k-j-i-h-g-f-e-d-c-d-e-f-g-h-i-j-k-l-m-n-o-p-q-r-s-t-u-v-w-x-y----\n",
            "------y-x-w-v-u-t-s-r-q-p-o-n-m-l-k-j-i-h-g-f-e-d-e-f-g-h-i-j-k-l-m-n-o-p-q-r-s-t-u-v-w-x-y------\n",
            "--------y-x-w-v-u-t-s-r-q-p-o-n-m-l-k-j-i-h-g-f-e-f-g-h-i-j-k-l-m-n-o-p-q-r-s-t-u-v-w-x-y--------\n",
            "----------y-x-w-v-u-t-s-r-q-p-o-n-m-l-k-j-i-h-g-f-g-h-i-j-k-l-m-n-o-p-q-r-s-t-u-v-w-x-y----------\n",
            "------------y-x-w-v-u-t-s-r-q-p-o-n-m-l-k-j-i-h-g-h-i-j-k-l-m-n-o-p-q-r-s-t-u-v-w-x-y------------\n",
            "--------------y-x-w-v-u-t-s-r-q-p-o-n-m-l-k-j-i-h-i-j-k-l-m-n-o-p-q-r-s-t-u-v-w-x-y--------------\n",
            "----------------y-x-w-v-u-t-s-r-q-p-o-n-m-l-k-j-i-j-k-l-m-n-o-p-q-r-s-t-u-v-w-x-y----------------\n",
            "------------------y-x-w-v-u-t-s-r-q-p-o-n-m-l-k-j-k-l-m-n-o-p-q-r-s-t-u-v-w-x-y------------------\n",
            "--------------------y-x-w-v-u-t-s-r-q-p-o-n-m-l-k-l-m-n-o-p-q-r-s-t-u-v-w-x-y--------------------\n",
            "----------------------y-x-w-v-u-t-s-r-q-p-o-n-m-l-m-n-o-p-q-r-s-t-u-v-w-x-y----------------------\n",
            "------------------------y-x-w-v-u-t-s-r-q-p-o-n-m-n-o-p-q-r-s-t-u-v-w-x-y------------------------\n",
            "--------------------------y-x-w-v-u-t-s-r-q-p-o-n-o-p-q-r-s-t-u-v-w-x-y--------------------------\n",
            "----------------------------y-x-w-v-u-t-s-r-q-p-o-p-q-r-s-t-u-v-w-x-y----------------------------\n",
            "------------------------------y-x-w-v-u-t-s-r-q-p-q-r-s-t-u-v-w-x-y------------------------------\n",
            "--------------------------------y-x-w-v-u-t-s-r-q-r-s-t-u-v-w-x-y--------------------------------\n",
            "----------------------------------y-x-w-v-u-t-s-r-s-t-u-v-w-x-y----------------------------------\n",
            "------------------------------------y-x-w-v-u-t-s-t-u-v-w-x-y------------------------------------\n",
            "--------------------------------------y-x-w-v-u-t-u-v-w-x-y--------------------------------------\n",
            "----------------------------------------y-x-w-v-u-v-w-x-y----------------------------------------\n",
            "------------------------------------------y-x-w-v-w-x-y------------------------------------------\n",
            "--------------------------------------------y-x-w-x-y--------------------------------------------\n",
            "----------------------------------------------y-x-y----------------------------------------------\n",
            "------------------------------------------------y------------------------------------------------\n"
          ]
        }
      ]
    },
    {
      "cell_type": "code",
      "source": [],
      "metadata": {
        "id": "Knw7d1Tn9u54"
      },
      "execution_count": null,
      "outputs": []
    },
    {
      "cell_type": "markdown",
      "source": [],
      "metadata": {
        "id": "2aQpr-XC9vr8"
      }
    },
    {
      "cell_type": "markdown",
      "source": [],
      "metadata": {
        "id": "MqtJP0S59vik"
      }
    },
    {
      "cell_type": "code",
      "source": [
        "a=ord('a')\n",
        "print(a)\n",
        "chr(97)"
      ],
      "metadata": {
        "colab": {
          "base_uri": "https://localhost:8080/",
          "height": 54
        },
        "id": "gU38QXDLBABp",
        "outputId": "0a3bc07e-bf90-4ba4-c343-9bec90a1351c"
      },
      "execution_count": null,
      "outputs": [
        {
          "output_type": "stream",
          "name": "stdout",
          "text": [
            "97\n"
          ]
        },
        {
          "output_type": "execute_result",
          "data": {
            "text/plain": [
              "'a'"
            ],
            "application/vnd.google.colaboratory.intrinsic+json": {
              "type": "string"
            }
          },
          "metadata": {},
          "execution_count": 7
        }
      ]
    },
    {
      "cell_type": "code",
      "source": [
        "def print_formatted(number):\n",
        "    # your code goes here\n",
        "    for i in range(1,number+1):\n",
        "        print('{0:>{width}} {1:>{width}} {2:>{width}} {3:>{width}}'.format(i, oct(i)[2:], hex(i)[2:].upper(), bin(i)[2:], width=len(bin(number)[2:])))\n",
        "\n",
        "\n",
        "if __name__ == '__main__':\n",
        "    n = int(input())\n",
        "    print_formatted(n)"
      ],
      "metadata": {
        "id": "69Uf2axJkPHu"
      },
      "execution_count": null,
      "outputs": []
    },
    {
      "cell_type": "code",
      "source": [
        "#!/bin/python3\n",
        "\n",
        "import math\n",
        "import os\n",
        "import random\n",
        "import re\n",
        "import sys\n",
        "\n",
        "# Complete the solve function below.\n",
        "def solve(s):\n",
        "    s=s.split(' ')\n",
        "    for i in range(len(s)):\n",
        "      print(str(s[i]).capitalize())\n",
        "    return s\n",
        "\n",
        "if __name__ == '__main__':\n",
        "\n",
        "\n",
        "    s = input()\n",
        "\n",
        "    result = solve(s)\n",
        "\n",
        "    print(result\n",
        "          )\n"
      ],
      "metadata": {
        "colab": {
          "base_uri": "https://localhost:8080/"
        },
        "id": "m2KicY0BmLLa",
        "outputId": "496502bc-9688-4bc8-b662-477130d1443e"
      },
      "execution_count": null,
      "outputs": [
        {
          "output_type": "stream",
          "name": "stdout",
          "text": [
            "1 2 r 3g\n",
            "1\n",
            "2\n",
            "R\n",
            "3g\n",
            "['1', '2', 'r', '3g']\n"
          ]
        }
      ]
    },
    {
      "cell_type": "code",
      "source": [
        "print(str('r').capitalize())"
      ],
      "metadata": {
        "colab": {
          "base_uri": "https://localhost:8080/"
        },
        "id": "u8aV4lxynjbx",
        "outputId": "903c8ab1-467e-40f0-f44a-dc2d572b5b18"
      },
      "execution_count": null,
      "outputs": [
        {
          "output_type": "stream",
          "name": "stdout",
          "text": [
            "R\n"
          ]
        }
      ]
    },
    {
      "cell_type": "code",
      "source": [
        "def minion_game(string):\n",
        "    # your code goes here\n",
        "    c=[]\n",
        "    Stuart=0\n",
        "    Kevin=0\n",
        "    for i in range(len(string)+1):\n",
        "        s=''\n",
        "        for j in range(i+1,len(string)+1):\n",
        "            s=string[i:j]\n",
        "            c.append(s)\n",
        "    vowels=['A','E','I','O','U','a','e','i','o','u']\n",
        "    for i in range(len(c)):\n",
        "      x=False\n",
        "      for j in range(len(vowels)):\n",
        "        if c[i].startswith(vowels[j]):\n",
        "          x=True\n",
        "      if x==False:\n",
        "        Stuart+=1\n",
        "      else:\n",
        "        Kevin+=1\n",
        "    if Stuart > Kevin:\n",
        "      print('Stuart ',Stuart)\n",
        "    elif Stuart < Kevin:\n",
        "      print('Kevin ',Kevin)\n",
        "    else:\n",
        "      print('Draw')\n",
        "\n",
        "if __name__ == '__main__':\n",
        "    s = input()\n",
        "    minion_game(s)"
      ],
      "metadata": {
        "colab": {
          "base_uri": "https://localhost:8080/"
        },
        "id": "N5wM_bvLV53E",
        "outputId": "46fb729d-932a-4022-92fa-e6f5b4768193"
      },
      "execution_count": null,
      "outputs": [
        {
          "output_type": "stream",
          "name": "stdout",
          "text": [
            "banana\n",
            "Stuart  12\n"
          ]
        }
      ]
    },
    {
      "cell_type": "code",
      "source": [
        "def minion_game(string):\n",
        "    vowels = set(\"AEIOUaeiou\")\n",
        "    Stuart, Kevin = 0, 0\n",
        "\n",
        "    for i in range(len(string)):\n",
        "        if string[i] in vowels:\n",
        "            Kevin += len(string) - i\n",
        "        else:\n",
        "            Stuart += len(string) - i\n",
        "\n",
        "    if Stuart > Kevin:\n",
        "        print('Stuart', Stuart)\n",
        "    elif Stuart < Kevin:\n",
        "        print('Kevin', Kevin)\n",
        "    else:\n",
        "        print('Draw')\n",
        "\n",
        "if __name__ == '__main__':\n",
        "    s = input()\n",
        "    minion_game(s)\n"
      ],
      "metadata": {
        "id": "QdYxfYRWa9y-"
      },
      "execution_count": null,
      "outputs": []
    },
    {
      "cell_type": "code",
      "source": [
        "# Enter your code here. Read input from STDIN. Print output to STDOUT\n",
        "from itertools import product\n",
        "a=input().split(' ')\n",
        "b=input().split(' ')\n",
        "for i in range(len(a)):\n",
        "  a[i]=int(a[i])\n",
        "for i in range(len(b)):\n",
        "  b[i]=int(b[i])\n",
        "p=product(a,b)\n",
        "print(*p)"
      ],
      "metadata": {
        "colab": {
          "base_uri": "https://localhost:8080/"
        },
        "id": "NbcTsZ3oeiPT",
        "outputId": "dbc61cd1-625a-4189-d6c6-51eaa395e7ba"
      },
      "execution_count": null,
      "outputs": [
        {
          "output_type": "stream",
          "name": "stdout",
          "text": [
            "1 2\n",
            "3 4\n",
            "[1, 2] [3, 4]\n",
            "(1, 3) (1, 4) (2, 3) (2, 4)\n"
          ]
        }
      ]
    },
    {
      "cell_type": "code",
      "source": [
        "# Enter your code here. Read input from STDIN. Print output to STDOUT\n",
        "x=int(input())\n",
        "y=input().split(' ')\n",
        "for i in range(len(y)):\n",
        "    y[i]=int(y[i])\n",
        "y=set(y)\n",
        "n=int(input())\n",
        "l=[]\n",
        "for i in range(n):\n",
        "    l.append(input().split(' '))\n",
        "for i in range(len(l)):\n",
        "    for j in range(len(l[i])):\n",
        "        if j==0:\n",
        "            l[i][j]=str(l[i][j])\n",
        "        else:\n",
        "            l[i][j]=int(l[i][j])\n",
        "print(l)\n",
        "for i in range(len(l)):\n",
        "    if l[i][0]=='pop':\n",
        "        print(y)\n",
        "        y.pop()\n",
        "        print(y)\n",
        "    elif l[i][0]=='remove':\n",
        "        print(y)\n",
        "        y.remove(l[i][1])\n",
        "        print(y)\n",
        "    elif l[i][0]=='discard':\n",
        "        print(y)\n",
        "        y.discard(l[i][1])\n",
        "        print(y)\n",
        "print(l)\n",
        "print(y)\n",
        "\n"
      ],
      "metadata": {
        "colab": {
          "base_uri": "https://localhost:8080/"
        },
        "id": "nKneMn1dh0Dg",
        "outputId": "8954caf3-50b6-4ced-caa3-764efb2efe17"
      },
      "execution_count": null,
      "outputs": [
        {
          "output_type": "stream",
          "name": "stdout",
          "text": [
            "9\n",
            "1 2 3 4 5 6 7 8 9\n",
            "10\n",
            "pop\n",
            "remove 9\n",
            "discard 9\n",
            "discard 8\n",
            "remove 7\n",
            "pop\n",
            "discard 6\n",
            "remove 5\n",
            "pop\n",
            "discard 5\n",
            "[['pop'], ['remove', 9], ['discard', 9], ['discard', 8], ['remove', 7], ['pop'], ['discard', 6], ['remove', 5], ['pop'], ['discard', 5]]\n",
            "{1, 2, 3, 4, 5, 6, 7, 8, 9}\n",
            "{2, 3, 4, 5, 6, 7, 8, 9}\n",
            "{2, 3, 4, 5, 6, 7, 8, 9}\n",
            "{2, 3, 4, 5, 6, 7, 8}\n",
            "{2, 3, 4, 5, 6, 7, 8}\n",
            "{2, 3, 4, 5, 6, 7, 8}\n",
            "{2, 3, 4, 5, 6, 7, 8}\n",
            "{2, 3, 4, 5, 6, 7}\n",
            "{2, 3, 4, 5, 6, 7}\n",
            "{2, 3, 4, 5, 6}\n",
            "{2, 3, 4, 5, 6}\n",
            "{3, 4, 5, 6}\n",
            "{3, 4, 5, 6}\n",
            "{3, 4, 5}\n",
            "{3, 4, 5}\n",
            "{3, 4}\n",
            "{3, 4}\n",
            "{4}\n",
            "{4}\n",
            "{4}\n",
            "[['pop'], ['remove', 9], ['discard', 9], ['discard', 8], ['remove', 7], ['pop'], ['discard', 6], ['remove', 5], ['pop'], ['discard', 5]]\n",
            "{4}\n"
          ]
        }
      ]
    },
    {
      "cell_type": "code",
      "source": [
        "# Enter your code here. Read input from STDIN. Print output to STDOUT\n",
        "x=int(input())\n",
        "n=input().split(' ')\n",
        "y=set(n)\n",
        "y=list(y)\n",
        "for i in range(len(y)):\n",
        "    if n.count(y[i])==1:\n",
        "        print(y[i])\n"
      ],
      "metadata": {
        "colab": {
          "base_uri": "https://localhost:8080/"
        },
        "id": "UNO-QGbGB5gN",
        "outputId": "b0ddf911-ca75-4838-c38d-7350dc2c0d31"
      },
      "execution_count": null,
      "outputs": [
        {
          "output_type": "stream",
          "name": "stdout",
          "text": [
            "5\n",
            "1 2 3 6 5 4 4 2 5 3 6 1 6 5 3 2 4 1 2 5 1 4 3 6 8 4 3 1 5 6 2\n",
            "6\n",
            "1\n",
            "3\n",
            "5\n",
            "8\n",
            "8\n",
            "4\n",
            "2\n"
          ]
        }
      ]
    },
    {
      "cell_type": "code",
      "source": [
        "def fuzzy(n):\n",
        "  if n<=2000:\n",
        "    print('low level water')\n",
        "    print('time required 25 min')\n",
        "  elif n>2000 and n<5000:\n",
        "    print('time required 35 min')\n",
        "  elif n<=7000:\n",
        "    print('time required is 45 min')\n",
        "  elif n>7000:\n",
        "    print('overloaded')\n",
        "  else:\n",
        "    print('invalid input')\n",
        "n=int(input('Enter the weight: '))\n",
        "fuzzy(n)\n"
      ],
      "metadata": {
        "colab": {
          "base_uri": "https://localhost:8080/"
        },
        "id": "NnrYIbWQsdlg",
        "outputId": "7095cefa-b856-4a31-868e-257abe611eea"
      },
      "execution_count": null,
      "outputs": [
        {
          "output_type": "stream",
          "name": "stdout",
          "text": [
            "Enter the weight: 20000\n",
            "overloaded\n"
          ]
        }
      ]
    },
    {
      "cell_type": "code",
      "source": [
        "def total_cost(n,m,x,y):\n",
        "  totalcost=n*x*18+m*y*12\n",
        "  return totalcost\n",
        "n=int(input('Number of interir walls: '))\n",
        "m=int(input('Number of exterior walls: '))\n",
        "if n!=0:\n",
        "  x=int(input('Enter SurfaceArea of Interior wall: '))\n",
        "else:\n",
        "  x=0\n",
        "if m!=0:\n",
        "  y=int(input('Enter SurfaceArea of Exterior wall: '))\n",
        "else:\n",
        "  y=0\n",
        "print('Total Cost for Painting: ',total_cost(n,m,x,y))"
      ],
      "metadata": {
        "colab": {
          "base_uri": "https://localhost:8080/"
        },
        "id": "DNrthYpOJRrc",
        "outputId": "3c265a0c-b422-4c8d-908c-e99c30770d6c"
      },
      "execution_count": null,
      "outputs": [
        {
          "output_type": "stream",
          "name": "stdout",
          "text": [
            "Number of interir walls: 0\n",
            "Number of exterior walls: 3\n",
            "Enter SurfaceArea of Exterior wall: 2\n",
            "Total Cost for Painting:  72\n"
          ]
        }
      ]
    },
    {
      "cell_type": "code",
      "source": [
        "\n",
        "\n",
        "#More than 2 lines will result in 0 score. Do not leave a blank line also\n",
        "\n",
        "for i in range(1,int(input())+1):\n",
        "  print(i*(10**i//9))\n",
        "\n"
      ],
      "metadata": {
        "colab": {
          "base_uri": "https://localhost:8080/"
        },
        "id": "EHtF5iWxgn3M",
        "outputId": "a3f3cf70-a6fe-43a4-89d3-4c5ae8299073"
      },
      "execution_count": null,
      "outputs": [
        {
          "output_type": "stream",
          "name": "stdout",
          "text": [
            "3\n",
            "1\n",
            "22\n",
            "333\n"
          ]
        }
      ]
    },
    {
      "cell_type": "code",
      "source": [
        "\n",
        "\n",
        "#More than 2 lines will result in 0 score. Do not leave a blank line also\n",
        "\n",
        "for i in range(1,int(input())+1):\n",
        "  print((10**i//9)**2       )\n"
      ],
      "metadata": {
        "colab": {
          "base_uri": "https://localhost:8080/"
        },
        "id": "SUYuHMpd6yWB",
        "outputId": "f1bef0e5-bee3-4f9b-af7d-7fa710a3c341"
      },
      "execution_count": null,
      "outputs": [
        {
          "output_type": "stream",
          "name": "stdout",
          "text": [
            "3\n",
            "1\n",
            "121\n",
            "12321\n"
          ]
        }
      ]
    },
    {
      "cell_type": "code",
      "source": [
        "#prepare a list from the range(0,100)\n",
        "l=[]\n",
        "for i in range(1,201):\n",
        "  if i<=100:\n",
        "    if i%2==0:\n",
        "      l.append(i)\n",
        "  else:\n",
        "    if (i-100)%2!=0:\n",
        "      l.append(i)\n",
        "print(l)"
      ],
      "metadata": {
        "colab": {
          "base_uri": "https://localhost:8080/"
        },
        "id": "tC-fDdmKmaty",
        "outputId": "7222ae5e-14c9-4bbe-ef89-93c083578665"
      },
      "execution_count": null,
      "outputs": [
        {
          "output_type": "stream",
          "name": "stdout",
          "text": [
            "[2, 4, 6, 8, 10, 12, 14, 16, 18, 20, 22, 24, 26, 28, 30, 32, 34, 36, 38, 40, 42, 44, 46, 48, 50, 52, 54, 56, 58, 60, 62, 64, 66, 68, 70, 72, 74, 76, 78, 80, 82, 84, 86, 88, 90, 92, 94, 96, 98, 100, 101, 103, 105, 107, 109, 111, 113, 115, 117, 119, 121, 123, 125, 127, 129, 131, 133, 135, 137, 139, 141, 143, 145, 147, 149, 151, 153, 155, 157, 159, 161, 163, 165, 167, 169, 171, 173, 175, 177, 179, 181, 183, 185, 187, 189, 191, 193, 195, 197, 199]\n"
          ]
        }
      ]
    },
    {
      "cell_type": "code",
      "source": [
        "l=[i for i in range(1,100) if i%3==0]\n",
        "l=['odd' if i%2==0 else 'even' for i in l ]\n",
        "print(l)"
      ],
      "metadata": {
        "colab": {
          "base_uri": "https://localhost:8080/"
        },
        "id": "R17_BLmj96VK",
        "outputId": "050095e7-51fb-4145-adb4-d8fab8f8c588"
      },
      "execution_count": null,
      "outputs": [
        {
          "output_type": "stream",
          "name": "stdout",
          "text": [
            "['even', 'odd', 'even', 'odd', 'even', 'odd', 'even', 'odd', 'even', 'odd', 'even', 'odd', 'even', 'odd', 'even', 'odd', 'even', 'odd', 'even', 'odd', 'even', 'odd', 'even', 'odd', 'even', 'odd', 'even', 'odd', 'even', 'odd', 'even', 'odd', 'even']\n"
          ]
        }
      ]
    },
    {
      "cell_type": "code",
      "source": [
        "# Enter your code here. Read input from STDIN. Print output to STDOUT\n",
        "from itertools import permutations\n",
        "s=input().split(' ')\n",
        "k=int(s[1])\n",
        "s=s[0]\n",
        "print(list(permutations(s,k)))"
      ],
      "metadata": {
        "colab": {
          "base_uri": "https://localhost:8080/"
        },
        "id": "y5trKYnX7lOL",
        "outputId": "feeb2193-9ef3-41e4-ac23-08cb63d774eb"
      },
      "execution_count": null,
      "outputs": [
        {
          "output_type": "stream",
          "name": "stdout",
          "text": [
            "hack 2\n",
            "[('h', 'a'), ('h', 'c'), ('h', 'k'), ('a', 'h'), ('a', 'c'), ('a', 'k'), ('c', 'h'), ('c', 'a'), ('c', 'k'), ('k', 'h'), ('k', 'a'), ('k', 'c')]\n"
          ]
        }
      ]
    },
    {
      "cell_type": "code",
      "source": [
        "l1=[i for i in range(1,6)]\n",
        "l2=[i for i in range(6,11)]\n",
        "l3=list(map(lambda x,y:x**y,l1,l2))\n",
        "print(l3)"
      ],
      "metadata": {
        "colab": {
          "base_uri": "https://localhost:8080/"
        },
        "id": "d12iHTmROe9K",
        "outputId": "deefd197-4178-4735-a7cc-0a37ca36cba8"
      },
      "execution_count": null,
      "outputs": [
        {
          "output_type": "stream",
          "name": "stdout",
          "text": [
            "[1, 128, 6561, 262144, 9765625]\n"
          ]
        }
      ]
    },
    {
      "cell_type": "code",
      "source": [
        "#without groupby fuction\n",
        "'''\n",
        "data=input()\n",
        "l=[]\n",
        "for i in range(len(data)):\n",
        "    l.append(int(data[i]))\n",
        "x=[]\n",
        "i=0\n",
        "while i<len(l):\n",
        "    c=0\n",
        "    a=l[i]\n",
        "    while i<len(l) and a==l[i]:\n",
        "        c+=1\n",
        "        i+=1\n",
        "    x.append((c,a))\n",
        "for i in range(len(x)):\n",
        "    print(x[i],end=' ')\n",
        "'''\n",
        "#with groupby function not own chatgpt generated learn once more\n",
        "from itertools import groupby\n",
        "\n",
        "def modify_string(s):\n",
        "    modified_string = ''\n",
        "\n",
        "    for key, group in groupby(s):\n",
        "        count = len(list(group))\n",
        "        modified_string += f\"({count}, {key})\"\n",
        "\n",
        "    return modified_string\n",
        "\n",
        "# Read input from STDIN\n",
        "input_string = input()\n",
        "\n",
        "# Call the function and print the modified string\n",
        "result = modify_string(input_string)\n",
        "print(result)\n"
      ],
      "metadata": {
        "id": "677uz3N4BvZg",
        "colab": {
          "base_uri": "https://localhost:8080/"
        },
        "outputId": "b8ca8268-f80a-46f8-eeff-c1e745ee9c35"
      },
      "execution_count": null,
      "outputs": [
        {
          "output_type": "stream",
          "name": "stdout",
          "text": [
            "112222333334444\n",
            "(2, 1)(4, 2)(5, 3)(4, 4)\n"
          ]
        }
      ]
    },
    {
      "cell_type": "code",
      "source": [
        "# Enter your code here. Read input from STDIN. Print output to STDOUT\n",
        "from itertools import combinations\n",
        "x=int(input())\n",
        "l=input().split(' ')\n",
        "z=int(input())\n",
        "a=list(combinations(l,z))\n",
        "c=0\n",
        "for i in range(len(a)):\n",
        "    if 'a' in a[i]:\n",
        "        c+=1\n",
        "print(c/len(a))\n"
      ],
      "metadata": {
        "colab": {
          "base_uri": "https://localhost:8080/"
        },
        "id": "oNucXxzn5efA",
        "outputId": "01463885-72a7-460b-b6e0-4b8ac0fa648d"
      },
      "execution_count": null,
      "outputs": [
        {
          "output_type": "stream",
          "name": "stdout",
          "text": [
            "5\n",
            "a a a a a\n",
            "5\n",
            "1.0\n"
          ]
        }
      ]
    },
    {
      "cell_type": "code",
      "source": [
        "from itertools import product\n",
        "def maxmi(lists,n,m):\n",
        "  p=list(product(*lists))\n",
        "  max_val=max[(sum(x**2 for i in comb)%m for comb in p)]\n",
        "  return max_val\n",
        "n,m=map(int,input().split(' '))\n",
        "lists=[list(map(int,input().split()[1::]) for i in range (n))]\n",
        "max=maxmi(lists,n,m)\n",
        "print(max)\n",
        "\n",
        "\n"
      ],
      "metadata": {
        "id": "rg8HvmCO6Q_z"
      },
      "execution_count": null,
      "outputs": []
    },
    {
      "cell_type": "code",
      "source": [
        "n=int(input())\n",
        "for i in range(n):\n",
        "  gift=1\n",
        "  tg=0\n",
        "  x=int(input())\n",
        "  l=[]\n",
        "  l=list(map(int,input().split(' ')))\n",
        "  m=list(set(l))\n",
        "  print(m)\n",
        "  for j in m:\n",
        "    tg+=l.count(j)*(gift)\n",
        "    gift+=1\n",
        "  print(tg)"
      ],
      "metadata": {
        "id": "N0sj70ZzSTsa",
        "colab": {
          "base_uri": "https://localhost:8080/"
        },
        "outputId": "c75d23ca-3102-4cd8-afcb-3a6b5c81b81d"
      },
      "execution_count": null,
      "outputs": [
        {
          "output_type": "stream",
          "name": "stdout",
          "text": [
            "2\n",
            "5\n",
            "1 2 1 5 2\n",
            "[1, 2, 5]\n",
            "9\n",
            "2 \n",
            "1 2\n",
            "[1, 2]\n",
            "3\n"
          ]
        }
      ]
    },
    {
      "cell_type": "code",
      "source": [
        "m=list((1,4,3,9,2,5))\n",
        "m.sort()\n",
        "x=m[::-1]\n",
        "print(x)\n",
        "m=set(x)\n",
        "print(m)\n",
        "l=[1,1,4,5,9,8,7,9,9,2,3,2,2,4]\n",
        "for i in m:\n",
        "  print(l.count(i))"
      ],
      "metadata": {
        "colab": {
          "base_uri": "https://localhost:8080/"
        },
        "id": "i_JrQpqWhCTk",
        "outputId": "b570bb04-59e8-4daa-96f5-408f041d2d73"
      },
      "execution_count": null,
      "outputs": [
        {
          "output_type": "stream",
          "name": "stdout",
          "text": [
            "[9, 5, 4, 3, 2, 1]\n",
            "{1, 2, 3, 4, 5, 9}\n",
            "2\n",
            "3\n",
            "1\n",
            "2\n",
            "1\n",
            "3\n"
          ]
        }
      ]
    },
    {
      "cell_type": "code",
      "source": [
        "t = int(input(\"Enter the number of test cases: \"))\n",
        "\n",
        "for _ in range(t):\n",
        "    n = int(input())\n",
        "    ranks = list(map(int, input().split()))\n",
        "\n",
        "    gifts = [1] * n\n",
        "\n",
        "    for i in range(1, n):\n",
        "        if ranks[i] > ranks[i - 1]:\n",
        "            gifts[i] = gifts[i - 1] + 1\n",
        "\n",
        "    total_gifts = sum(gifts)\n",
        "    print(total_gifts)\n"
      ],
      "metadata": {
        "colab": {
          "base_uri": "https://localhost:8080/"
        },
        "id": "t3QgdZH2B6ot",
        "outputId": "622a7eb9-417c-4224-8748-10f8eb97dd4a"
      },
      "execution_count": null,
      "outputs": [
        {
          "output_type": "stream",
          "name": "stdout",
          "text": [
            "Enter the number of test cases: 2\n",
            "5\n",
            "1 2 1 5 2\n",
            "7\n",
            "2\n",
            "1 2\n",
            "3\n"
          ]
        }
      ]
    },
    {
      "cell_type": "code",
      "source": [
        "a=input()\n",
        "while '#' in a:\n",
        "  for i in range(len(a)):\n",
        "    if i<len(a) and a[i]=='#':\n",
        "      if i==0:\n",
        "        a=a[i+1:]\n",
        "        break\n",
        "      else:\n",
        "        a=a[:i-1]+a[i+1:]\n",
        "        break\n",
        "    print(a)\n",
        "print(a)"
      ],
      "metadata": {
        "id": "X0k3yCSdaLKh",
        "colab": {
          "base_uri": "https://localhost:8080/"
        },
        "outputId": "a985c995-2bf1-47c0-b8b7-2cd164cb8217"
      },
      "execution_count": null,
      "outputs": [
        {
          "output_type": "stream",
          "name": "stdout",
          "text": [
            "###abcd####fg\n",
            "abcd####fg\n",
            "abcd####fg\n",
            "abcd####fg\n",
            "abcd####fg\n",
            "abc###fg\n",
            "abc###fg\n",
            "abc###fg\n",
            "ab##fg\n",
            "ab##fg\n",
            "a#fg\n",
            "fg\n"
          ]
        }
      ]
    },
    {
      "cell_type": "code",
      "source": [
        "l=input().split(' ')\n",
        "print(' '.join(l[::-1]))"
      ],
      "metadata": {
        "colab": {
          "base_uri": "https://localhost:8080/"
        },
        "id": "Z5ko3DMHZqRq",
        "outputId": "0f18a224-1338-48a2-efe5-b8f424876921"
      },
      "execution_count": null,
      "outputs": [
        {
          "output_type": "stream",
          "name": "stdout",
          "text": [
            "hi i am neharsha\n",
            "neharsha am i hi\n"
          ]
        }
      ]
    },
    {
      "cell_type": "code",
      "source": [
        "a={\n",
        "    1:'one',2:'two',3:'three',4:'four',5:'five',6:'six',7:'seven',8:'eight',9:'nine',0:'zero'\n",
        "}\n",
        "x=[]\n",
        "n=input()\n",
        "for i in range(len(n)):\n",
        "  x.append(n[i])\n",
        "vowels=input().lower().split(' ')\n",
        "for i in  range(len(x)):\n",
        "  s=a[int(x[i])]\n",
        "  for j in range(len(s)):\n",
        "    if s[j] in vowels:\n",
        "      print(s)\n",
        "      break"
      ],
      "metadata": {
        "colab": {
          "base_uri": "https://localhost:8080/"
        },
        "id": "zmhHm8m_KH_S",
        "outputId": "ae70656f-a9ad-4b64-bd36-a0586cb94be2"
      },
      "execution_count": null,
      "outputs": [
        {
          "output_type": "stream",
          "name": "stdout",
          "text": [
            "1234567890\n",
            " A E\n",
            "one\n",
            "three\n",
            "five\n",
            "seven\n",
            "eight\n",
            "nine\n",
            "zero\n"
          ]
        }
      ]
    },
    {
      "cell_type": "code",
      "source": [
        "print(len(max(input().split('1'))))"
      ],
      "metadata": {
        "colab": {
          "base_uri": "https://localhost:8080/"
        },
        "id": "1BMVeZJlNS0O",
        "outputId": "d69996d9-fbf5-44f1-ed0b-303256c2109e"
      },
      "execution_count": null,
      "outputs": [
        {
          "output_type": "stream",
          "name": "stdout",
          "text": [
            "1100001010101\n",
            "['', '', '0000', '0', '0', '0', '']\n",
            "4\n"
          ]
        }
      ]
    },
    {
      "cell_type": "code",
      "source": [
        "d={}\n",
        "s=input()\n",
        "for i in range(len(s)):\n",
        "    if s[i] in d:\n",
        "        d[s[i]]+=1\n",
        "    else:\n",
        "        d[s[i]]=1\n",
        "print(d)"
      ],
      "metadata": {
        "colab": {
          "base_uri": "https://localhost:8080/"
        },
        "id": "zOEfOT5XZDRC",
        "outputId": "bd40881a-23cc-48bd-995d-f96fa4bde02c"
      },
      "execution_count": null,
      "outputs": [
        {
          "output_type": "stream",
          "name": "stdout",
          "text": [
            "happy\n",
            "{'h': 1, 'a': 1, 'p': 2, 'y': 1}\n"
          ]
        }
      ]
    },
    {
      "cell_type": "code",
      "source": [
        "d={10:100, 30:25, 20:15}\n",
        "print(dict(sorted([(v,k) for k,v in d.items()],reverse=True)))"
      ],
      "metadata": {
        "colab": {
          "base_uri": "https://localhost:8080/"
        },
        "id": "za3gvkFMcPiC",
        "outputId": "89e4a80c-a977-4a9e-fb7a-fc6136400954"
      },
      "execution_count": null,
      "outputs": [
        {
          "output_type": "stream",
          "name": "stdout",
          "text": [
            "{100: 10, 25: 30, 15: 20}\n"
          ]
        }
      ]
    },
    {
      "cell_type": "code",
      "source": [
        "n=int(input())\n",
        "if n%2==0:\n",
        "  for i in range(1,n):\n",
        "    for j in range(1,n):\n",
        "      if j==i or j==n-i:\n",
        "        print(j,end=' ')\n",
        "      else:\n",
        "        print(' ',end=' ')\n",
        "    print()"
      ],
      "metadata": {
        "colab": {
          "base_uri": "https://localhost:8080/"
        },
        "id": "iv-11DdmqBXz",
        "outputId": "1d047974-4127-4c5b-ad36-f24656b0f721"
      },
      "execution_count": null,
      "outputs": [
        {
          "output_type": "stream",
          "name": "stdout",
          "text": [
            "8\n",
            "1           7 \n",
            "  2       6   \n",
            "    3   5     \n",
            "      4       \n",
            "    3   5     \n",
            "  2       6   \n",
            "1           7 \n"
          ]
        }
      ]
    },
    {
      "cell_type": "code",
      "source": [
        "palin=lambda x: str(x)==str(x)[::-1]\n",
        "n=int(input())\n",
        "print(palin(n))"
      ],
      "metadata": {
        "colab": {
          "base_uri": "https://localhost:8080/"
        },
        "id": "Z-No2Tdmvf1j",
        "outputId": "464c43ea-b00a-42fa-e73c-a1f1b55e49e1"
      },
      "execution_count": null,
      "outputs": [
        {
          "output_type": "stream",
          "name": "stdout",
          "text": [
            "12321\n",
            "True\n"
          ]
        }
      ]
    },
    {
      "cell_type": "code",
      "source": [
        "print((lambda x:x+3)(int(input())))"
      ],
      "metadata": {
        "colab": {
          "base_uri": "https://localhost:8080/"
        },
        "id": "grl6MjAXhPuH",
        "outputId": "71f3c912-b284-42c1-97a4-4fe5ff978b67"
      },
      "execution_count": null,
      "outputs": [
        {
          "output_type": "stream",
          "name": "stdout",
          "text": [
            "5\n",
            "8\n"
          ]
        }
      ]
    },
    {
      "cell_type": "code",
      "source": [
        "x=input()\n",
        "y= lambda x: [i for i in range(len(x)) if ord(x[i]) > 64 and ord(x[i]) < 91]\n",
        "y(x)\n"
      ],
      "metadata": {
        "colab": {
          "base_uri": "https://localhost:8080/"
        },
        "id": "YUupT2HjhnX2",
        "outputId": "850f0efb-9940-416e-dc2e-fb327be025ce"
      },
      "execution_count": null,
      "outputs": [
        {
          "output_type": "stream",
          "name": "stdout",
          "text": [
            "NeharShA\n",
            "0\n",
            "5\n",
            "7\n"
          ]
        }
      ]
    },
    {
      "cell_type": "code",
      "source": [
        "circle=[1.234,3.78912,7.2343,5.987323]\n",
        "print(list(map(round,circle,range(1,5))))"
      ],
      "metadata": {
        "colab": {
          "base_uri": "https://localhost:8080/"
        },
        "id": "GV7UIHCLpLtZ",
        "outputId": "ba865820-e8f8-4532-ee84-752d265fd984"
      },
      "execution_count": null,
      "outputs": [
        {
          "output_type": "stream",
          "name": "stdout",
          "text": [
            "[1.2, 3.79, 7.234, 5.9873]\n"
          ]
        }
      ]
    },
    {
      "cell_type": "code",
      "source": [
        "x=200\n",
        "def p():\n",
        "  global x\n",
        "  x=100\n",
        "  print(x,id(x))\n",
        "p()\n",
        "print(x,id(x))\n"
      ],
      "metadata": {
        "colab": {
          "base_uri": "https://localhost:8080/"
        },
        "id": "6CZYJuMo0kbh",
        "outputId": "a4b5db6f-3a91-4647-e8be-4b9b4785dfe8"
      },
      "execution_count": null,
      "outputs": [
        {
          "output_type": "stream",
          "name": "stdout",
          "text": [
            "100 139319667838288\n",
            "100 139319667838288\n"
          ]
        }
      ]
    },
    {
      "cell_type": "code",
      "source": [
        "# Enter your code here. Read input from STDIN. Print output to STDOUT\n",
        "a,b=map(int,input().split(' '))\n",
        "l=[]\n",
        "for i in range(b):\n",
        "    c=list(input().split(' '))\n",
        "    l+=c\n",
        "print(l)\n",
        "for i in range(a):\n",
        "    print(*zip(*l))\n",
        "\n"
      ],
      "metadata": {
        "colab": {
          "base_uri": "https://localhost:8080/"
        },
        "id": "xhc8qxe3GsaY",
        "outputId": "842b3d69-1e15-479b-a2f7-67309e636035"
      },
      "execution_count": null,
      "outputs": [
        {
          "output_type": "stream",
          "name": "stdout",
          "text": [
            "3 3\n",
            "1 2 3\n",
            "4 5 6\n",
            "7 8 9\n",
            "['1', '2', '3', '4', '5', '6', '7', '8', '9']\n",
            "('1', '2', '3', '4', '5', '6', '7', '8', '9')\n",
            "('1', '2', '3', '4', '5', '6', '7', '8', '9')\n",
            "('1', '2', '3', '4', '5', '6', '7', '8', '9')\n"
          ]
        }
      ]
    },
    {
      "cell_type": "code",
      "source": [
        "res={word.capitalize() for word in input().split() if word[0]=='h'}\n",
        "print(res)"
      ],
      "metadata": {
        "id": "3GepRue3LNkI",
        "colab": {
          "base_uri": "https://localhost:8080/"
        },
        "outputId": "6c71691e-7922-4c4d-a57e-ceba1d4f9f7b"
      },
      "execution_count": null,
      "outputs": [
        {
          "output_type": "stream",
          "name": "stdout",
          "text": [
            "hi this is hrithik\n",
            "{'Hi', 'Hrithik'}\n"
          ]
        }
      ]
    },
    {
      "cell_type": "code",
      "source": [
        "n,m=map(int,input().split())\n",
        "val=list(set(map(int,input().split())))\n",
        "s1=list(map(int,input().split()))\n",
        "s2=list(map(int,input().split()))\n",
        "h=0\n",
        "for i in range(len(val)):\n",
        "  if val[i] in s1:\n",
        "    h+=1\n",
        "  elif val[i] in s2:\n",
        "    h-=1\n",
        "print(h)"
      ],
      "metadata": {
        "colab": {
          "base_uri": "https://localhost:8080/"
        },
        "id": "wZJIAEy9iJUN",
        "outputId": "f9c75b3b-5502-46e6-940b-9d1bceccfa6f"
      },
      "execution_count": null,
      "outputs": [
        {
          "output_type": "stream",
          "name": "stdout",
          "text": [
            "6 2\n",
            "1 2 3 4 5 6\n",
            "1 2\n",
            "9 10\n",
            "2\n"
          ]
        }
      ]
    },
    {
      "cell_type": "code",
      "source": [
        "s=input().upper()\n",
        "l=[]\n",
        "for i in range(65,91):\n",
        "  l.append(chr(i))\n",
        "for i in range(len(s)):\n",
        "  if s[i] in l:\n",
        "    l.remove(s[i])\n",
        "if l==[]:\n",
        "  print('True')\n",
        "else:\n",
        "  print('False')\n"
      ],
      "metadata": {
        "colab": {
          "base_uri": "https://localhost:8080/"
        },
        "id": "XgjXHoVsy0iQ",
        "outputId": "4169daf0-e545-48ae-983a-66fa0b7e0c66"
      },
      "execution_count": null,
      "outputs": [
        {
          "output_type": "stream",
          "name": "stdout",
          "text": [
            "abcdefghijklmnopqrstuvwxyz\n",
            "True\n"
          ]
        }
      ]
    },
    {
      "cell_type": "code",
      "source": [
        "s=list(input().split(' '))\n",
        "x=[]\n",
        "z=0\n",
        "for i in range(len(s)):\n",
        "  x=list(s[i])\n",
        "  y=set(x)\n",
        "  if len(x)>len(y):\n",
        "    print('False')\n",
        "    break\n",
        "else:\n",
        "  print('True')\n"
      ],
      "metadata": {
        "colab": {
          "base_uri": "https://localhost:8080/"
        },
        "id": "km9qSNSu2pJi",
        "outputId": "33972af5-f59c-4f43-8c84-5553796ab37e"
      },
      "execution_count": null,
      "outputs": [
        {
          "output_type": "stream",
          "name": "stdout",
          "text": [
            "tic tac toe\n",
            "['t', 'i', 'c']\n",
            "{'c', 't', 'i'}\n",
            "['t', 'a', 'c']\n",
            "{'c', 't', 'a'}\n",
            "['t', 'o', 'e']\n",
            "{'o', 't', 'e'}\n",
            "True\n"
          ]
        }
      ]
    },
    {
      "cell_type": "code",
      "source": [
        "n=int(input())\n",
        "for i in range(n):\n",
        "  if i==0 or i==n-1:\n",
        "    print('# '*n)\n",
        "  else:\n",
        "    print('# ','  '*(n-3),'# ')"
      ],
      "metadata": {
        "colab": {
          "base_uri": "https://localhost:8080/"
        },
        "id": "xQHw0NWvnOP4",
        "outputId": "6a83b697-937f-4e9f-fcb7-8394ed733ff9"
      },
      "execution_count": null,
      "outputs": [
        {
          "output_type": "stream",
          "name": "stdout",
          "text": [
            "9\n",
            "# # # # # # # # # \n",
            "#               # \n",
            "#               # \n",
            "#               # \n",
            "#               # \n",
            "#               # \n",
            "#               # \n",
            "#               # \n",
            "# # # # # # # # # \n"
          ]
        }
      ]
    },
    {
      "cell_type": "code",
      "source": [
        "from google.colab import drive\n",
        "drive.mount('/content/drive')"
      ],
      "metadata": {
        "colab": {
          "base_uri": "https://localhost:8080/"
        },
        "id": "hfTZQPAC1syt",
        "outputId": "b8336a76-b000-4f52-ffed-fb2111419c2b"
      },
      "execution_count": null,
      "outputs": [
        {
          "output_type": "stream",
          "name": "stdout",
          "text": [
            "Drive already mounted at /content/drive; to attempt to forcibly remount, call drive.mount(\"/content/drive\", force_remount=True).\n"
          ]
        }
      ]
    },
    {
      "cell_type": "code",
      "source": [
        "class stud:\n",
        "  c=list(map(float,input('Enter the marks: ').split(' ')))\n",
        "  print(sum(c))\n",
        "  print(sum(c)/len(c))\n"
      ],
      "metadata": {
        "colab": {
          "base_uri": "https://localhost:8080/"
        },
        "id": "hz9FwBnOp1e_",
        "outputId": "c7e10dd4-cfaf-4ea7-aad2-f5647531694f"
      },
      "execution_count": null,
      "outputs": [
        {
          "output_type": "stream",
          "name": "stdout",
          "text": [
            "Enter the marks: 20 30 40\n",
            "90.0\n",
            "30.0\n"
          ]
        }
      ]
    },
    {
      "cell_type": "code",
      "source": [
        "class canteen:\n",
        "  items=['tea','coffee','poha']\n",
        "  prices=[10,20,40]\n",
        "  stock=[100,150,200]\n",
        "  def update_stock(item,qty):\n",
        "    if item in canteen.items:\n",
        "      x=canteen.items.index(item)\n",
        "      if canteen.stock[x]<qty:\n",
        "        if canteen.stock[x]!=0:\n",
        "          print('only ',canteen.stock[x],'units remaining')\n",
        "        else:\n",
        "          print('Out of Stock')\n",
        "      else:\n",
        "        canteen.stock[x]=canteen.stock[x]-qty\n",
        "        print('Updated Stock: ',canteen.stock)\n",
        "        print('bill for items is',canteen.prices[x]*qty)\n",
        "i=input(\"To order press 1 else press any key: \")\n",
        "while i=='1':\n",
        "  s=input('Select item: \\n1.tea    rs 10\\n2.coffee rs 20\\n3.poha   rs 40 \\n')\n",
        "  qty=int(input('Enter quantity: '))\n",
        "  canteen.update_stock(s,qty)\n",
        "  i=input(\"To order press 1 else press any key: \")\n",
        "print('Thanks for visiting!!!')\n"
      ],
      "metadata": {
        "id": "Ja3dZXGVzlWc",
        "colab": {
          "base_uri": "https://localhost:8080/"
        },
        "outputId": "4ea30822-aea3-4c67-dec9-a7d7640694d7"
      },
      "execution_count": null,
      "outputs": [
        {
          "output_type": "stream",
          "name": "stdout",
          "text": [
            "only  100 units remaining\n",
            "Updated Stock:  [50, 150, 200]\n",
            "bill for items is 500\n",
            "To order press 1 else press any key: 0\n",
            "Thanks for visiting!!!\n"
          ]
        }
      ]
    },
    {
      "cell_type": "code",
      "source": [
        "class Area():\n",
        "  def __init__(self,b,h):\n",
        "    self.b=b\n",
        "    self.h=h\n",
        "  def area(self):\n",
        "    print(self.h*self.b)\n",
        "c=Area(10,5)\n",
        "c.area()"
      ],
      "metadata": {
        "colab": {
          "base_uri": "https://localhost:8080/"
        },
        "id": "uUaS8ESwjYee",
        "outputId": "f098c3a3-c52a-4e5d-d53d-2283a0a7fc92"
      },
      "execution_count": null,
      "outputs": [
        {
          "output_type": "stream",
          "name": "stdout",
          "text": [
            "50\n"
          ]
        }
      ]
    },
    {
      "cell_type": "code",
      "source": [
        "class pizza:\n",
        "  def __init__(self,name):\n",
        "    self.id=name\n",
        "    self.rate=len(self.id)*100\n",
        "  def order(self,qty):\n",
        "    n=input('Would you like some extra toppings(Yes/No): \\n')\n",
        "    s=list()\n",
        "    if n=='Yes':\n",
        "      s=list(input('Enter the choice of toppings:\\n1.jalepinio\\n2.mushroom\\n3.peperoni\\n4.chicken\\n5.paneer\\n6.cheese\\n').split(' '))\n",
        "    topping_bill=50*len(s)\n",
        "    print('Total bill=',self.rate*qty+topping_bill*qty)\n",
        "\n",
        "i='1'\n",
        "while i=='1':\n",
        "  name=input('Enter your choice of pizza:\\n')\n",
        "  c=int(input('Enter quantity: '))\n",
        "  o=pizza(name)\n",
        "  o.order(c)\n",
        "  i=input(\"To order press 1 else press any key: \")\n",
        "print('Thanks for visiting!!!')\n",
        "\n",
        "\n"
      ],
      "metadata": {
        "colab": {
          "base_uri": "https://localhost:8080/"
        },
        "id": "_5upCyXCu8IC",
        "outputId": "1bfbaec4-1d56-4742-c151-7bb8d533d03c"
      },
      "execution_count": null,
      "outputs": [
        {
          "output_type": "stream",
          "name": "stdout",
          "text": [
            "Enter your choice of pizza:\n",
            "margareta\n",
            "Enter quantity: 1\n",
            "Would you like some extra toppings(Yes/No): \n",
            "Yes\n",
            "Enter the choice of toppings:\n",
            "1.jalepinio\n",
            "2.mushroom\n",
            "3.peperoni\n",
            "4.chicken\n",
            "5.paneer\n",
            "6.cheese\n",
            "mushroom, peperoni, cheese\n",
            "Total bill= 1050\n",
            "To order press 1 else press any key: 0\n",
            "Thanks for visiting!!!\n"
          ]
        }
      ]
    },
    {
      "cell_type": "code",
      "source": [
        "class Building:\n",
        "  def __init__(self,name,floors):\n",
        "    self.name=name\n",
        "    self.floors=floors\n",
        "  def display_info(self):\n",
        "    return f\"{self.name} has {self.floors} floors.\"\n",
        "\n",
        "class House(Building):\n",
        "  def __init__(self,name,floors,bedrooms):\n",
        "    super().__init__(name,floors)\n",
        "    self.bedrooms=bedrooms\n",
        "  def display_info(self):\n",
        "    base_info=super().display_info()\n",
        "    return f\"{base_info} It's a house with {self.bedrooms} bedrooms.\"\n",
        "\n",
        "class Office(House):\n",
        "  def __init__(self,name,floors,bedrooms,office):\n",
        "    super().__init__(name,floors,bedrooms)\n",
        "    self.office=office\n",
        "  def display_info(self):\n",
        "    base_info=super().display_info()\n",
        "    return f\"{base_info} It's a house with {self.office} Office spaces.\"\n",
        "s=Office('Neharsha Nilayam','3','5','2')\n",
        "print(s.display_info())\n"
      ],
      "metadata": {
        "colab": {
          "base_uri": "https://localhost:8080/"
        },
        "id": "6DBG8kmIypd2",
        "outputId": "0ccb7cd0-9040-41a3-98df-9de4a57bded5"
      },
      "execution_count": null,
      "outputs": [
        {
          "output_type": "stream",
          "name": "stdout",
          "text": [
            "Neharsha Nilayam has 3 floors. It's a house with 5 bedrooms. It's a house with 2 Office rooms.\n"
          ]
        }
      ]
    },
    {
      "cell_type": "code",
      "source": [
        "s=sorted(list(input()))\n",
        "print(''.join(s))"
      ],
      "metadata": {
        "colab": {
          "base_uri": "https://localhost:8080/"
        },
        "id": "agzZXNhxzEdi",
        "outputId": "eac8bbe1-1107-4e80-f264-3321ed4a7a8a"
      },
      "execution_count": null,
      "outputs": [
        {
          "output_type": "stream",
          "name": "stdout",
          "text": [
            "hello\n",
            "ehllo\n"
          ]
        }
      ]
    },
    {
      "cell_type": "code",
      "source": [
        "import re\n",
        "line='i love fried chicken'\n",
        "regex=re.compile('fried')\n",
        "#to find element is equal or not\n",
        "for s in line.split(' '):\n",
        "  if regex.match(s):\n",
        "    print(repr(s))\n",
        "  else:\n",
        "    print('no')\n",
        "#to find index of fried\n",
        "match=regex.search(line)\n",
        "match.start()\n",
        "regex.sub('boiled',line)\n"
      ],
      "metadata": {
        "colab": {
          "base_uri": "https://localhost:8080/",
          "height": 108
        },
        "id": "-noE1oPA6y2h",
        "outputId": "b90bfaa4-3760-4e28-facd-743a5524cab7"
      },
      "execution_count": null,
      "outputs": [
        {
          "output_type": "stream",
          "name": "stdout",
          "text": [
            "no\n",
            "no\n",
            "'fried'\n",
            "no\n"
          ]
        },
        {
          "output_type": "execute_result",
          "data": {
            "text/plain": [
              "'i love boiled chicken'"
            ],
            "application/vnd.google.colaboratory.intrinsic+json": {
              "type": "string"
            }
          },
          "metadata": {},
          "execution_count": 20
        }
      ]
    },
    {
      "cell_type": "code",
      "source": [
        "def c(s):\n",
        "  s=s.lower()\n",
        "  s=list(s)\n",
        "  x=s.count('x')\n",
        "  y=s.count('o')\n",
        "  if 'x' in s or 'o' in s:\n",
        "    if x==y:\n",
        "      print('True')\n",
        "    else:\n",
        "      print('False')\n",
        "  else:\n",
        "    print('False')\n",
        "c(input())"
      ],
      "metadata": {
        "colab": {
          "base_uri": "https://localhost:8080/"
        },
        "id": "NtFA6unH7Z4g",
        "outputId": "a39bd7ba-861c-4832-de27-ec79006d00c1"
      },
      "execution_count": null,
      "outputs": [
        {
          "output_type": "stream",
          "name": "stdout",
          "text": [
            "hdfjsh\n",
            "False\n"
          ]
        }
      ]
    },
    {
      "cell_type": "code",
      "source": [
        "'''def distance(s,a):\n",
        "  s=list(s.lower())\n",
        "  a=list(a.lower())\n",
        "  l=0\n",
        "  for i in range(min(len(s),len(a))):\n",
        "    if s[i]!=a[i]:\n",
        "      l+=1\n",
        "  print(l-min(len(s),len(a))+max(len(s),len(a)))'''\n",
        "def distance(a,b):\n",
        "  return sum(a!=b for x,y in zip(a,b))-min(len(a),len(b))+max(len(a),len(b))\n",
        "distance(input('string:'),input('string: '))"
      ],
      "metadata": {
        "colab": {
          "base_uri": "https://localhost:8080/"
        },
        "id": "a9JGhEqZ_gXB",
        "outputId": "000393bb-8afe-415c-f90d-80bbd9fb0f98"
      },
      "execution_count": null,
      "outputs": [
        {
          "name": "stdout",
          "output_type": "stream",
          "text": [
            "string:abc\n",
            "string: bcd\n"
          ]
        },
        {
          "output_type": "execute_result",
          "data": {
            "text/plain": [
              "3"
            ]
          },
          "metadata": {},
          "execution_count": 29
        }
      ]
    },
    {
      "cell_type": "code",
      "source": [
        "def sn(l):\n",
        "  x=''\n",
        "  for i in range(len(l)):\n",
        "    x+=(l[i][0])\n",
        "  x=x.upper()\n",
        "  print(''.join(sorted(list(x))))\n",
        "x=input().split(' ')\n",
        "sn(x)"
      ],
      "metadata": {
        "colab": {
          "base_uri": "https://localhost:8080/"
        },
        "id": "d83fSvzIF4_6",
        "outputId": "764dd012-d468-40e6-ba1e-50db0e7fea0d"
      },
      "execution_count": null,
      "outputs": [
        {
          "output_type": "stream",
          "name": "stdout",
          "text": [
            "vis bhuv sai tej\n",
            "BSTV\n"
          ]
        }
      ]
    },
    {
      "cell_type": "code",
      "source": [
        "from abc import ABC, abstractclassmethod\n",
        "class Television(ABC):\n",
        "  def __init__(self,brand):\n",
        "    self.brand=brand\n",
        "    self.power_on=False\n",
        "\n",
        "  @abstractclassmethod\n",
        "  def turnOn(self):\n",
        "    pass\n",
        "  @abstractclassmethod\n",
        "  def turnOff(self):\n",
        "    pass\n",
        "  @abstractclassmethod\n",
        "  def changeChannel(self,channel):\n",
        "    pass\n",
        "class smartTV(Television):\n",
        "  def turnOn(self):\n",
        "    print(f'{self.brand} Tv is Turned On!')\n",
        "  def turnOff(self):\n",
        "    print(f'{self.brand} Tv is Turned Off!')\n",
        "  def changeChannel(self,channel):\n",
        "    if self.power_on:\n",
        "      print(f'{self.brand} Tv is on channel number {channel}')\n",
        "    else:\n",
        "      print('Channel can not be changed please fire up your tv first')\n",
        "obj=smartTV(brand='Samsung')\n",
        "obj.turnOn()\n",
        "obj.turnOff()\n",
        "obj.changeChannel(69)\n"
      ],
      "metadata": {
        "colab": {
          "base_uri": "https://localhost:8080/"
        },
        "id": "qsF5myhK4Gh2",
        "outputId": "6a0f7e06-6947-49ce-d203-f6d921f43597"
      },
      "execution_count": null,
      "outputs": [
        {
          "output_type": "stream",
          "name": "stdout",
          "text": [
            "Samsung Tv is Turned On!\n",
            "Samsung Tv is Turned Off!\n",
            "Channel can not be changed please fire up your tv first\n"
          ]
        }
      ]
    },
    {
      "cell_type": "code",
      "source": [
        "#variableargument function definition and use\n",
        "def sum_all(*args):\n",
        "\tresult = 0\n",
        "\tfor num in args:\n",
        "\t\tresult += num\n",
        "\treturn result\n",
        "\n",
        "print(sum_all(1, 2, 3, 4, 5))\n"
      ],
      "metadata": {
        "colab": {
          "base_uri": "https://localhost:8080/"
        },
        "id": "FG0suVM4_e7G",
        "outputId": "c78ed329-c041-4633-ff36-5d6b9b222f2b"
      },
      "execution_count": null,
      "outputs": [
        {
          "output_type": "stream",
          "name": "stdout",
          "text": [
            "15\n"
          ]
        }
      ]
    },
    {
      "cell_type": "code",
      "source": [
        "#polymorphism\n",
        "class MessagingService:\n",
        "  def send_message(self,to,message,cc=None,bcc=None):\n",
        "    '''\n",
        "    Send a message.\n",
        "\n",
        "    Args:\n",
        "        to (str): Recipient's email address.\n",
        "        message (str): Message content.\n",
        "        cc (str or list,optional):Email address or list of addresses for cc.\n",
        "        bcc(str or list, optional):  Email address or list of addresses for BCC.\n",
        "        '''\n",
        "    reciepients=[to]\n",
        "    if cc:\n",
        "      if isinstance(cc, list):\n",
        "        reciepients.extend(cc)\n",
        "      else:\n",
        "        reciepients.append(cc)\n",
        "    if bcc:\n",
        "      if isinstance(bcc,list):\n",
        "        reciepients.extend(bcc)\n",
        "      else:\n",
        "        reciepients.append(bcc)\n",
        "    print(f\"message sent to: { ', '.join(reciepients)} Content: {message}\")\n",
        "msg=MessagingService()\n",
        "\n",
        "msg.send_message('kanneagntivishnu0904@gmmail.com','Hello Neharsha')\n",
        "msg.send_message('kanneagntivishnu0904@gmmail.com','Hello Neharsha and friends',['210303124565@gmail.com'])\n",
        "msg.send_message('kanneagntivishnu0904@gmmail.com','Hello Neharsha and friends',['210303124565@gmail.com'],['210303124577@gmail.com'])\n"
      ],
      "metadata": {
        "colab": {
          "base_uri": "https://localhost:8080/"
        },
        "id": "Ig8g5g1E3Obz",
        "outputId": "6122c6e5-2de8-4de7-fea8-c0d4dde19418"
      },
      "execution_count": null,
      "outputs": [
        {
          "output_type": "stream",
          "name": "stdout",
          "text": [
            "message sent to: kanneagntivishnu0904@gmmail.com Content: Hello Neharsha\n",
            "message sent to: kanneagntivishnu0904@gmmail.com, 210303124565@gmail.com Content: Hello Neharsha and friends\n",
            "message sent to: kanneagntivishnu0904@gmmail.com, 210303124565@gmail.com, 210303124577@gmail.com Content: Hello Neharsha and friends\n"
          ]
        }
      ]
    },
    {
      "cell_type": "code",
      "source": [
        "class stack:\n",
        "  def __init__(self,max=10):\n",
        "    self.__max=max\n",
        "  def push(self,l,a):\n",
        "    if len(l)>=self.__max:\n",
        "      print('Cant insert stack is full')\n",
        "    else:\n",
        "      l.append(a)\n",
        "      print(a, 'has been inserted into the list')\n",
        "  def pop(self):\n",
        "    if len(l)==0:\n",
        "      print('Stack empty nothing to pop')\n",
        "    else:\n",
        "      l.pop()\n",
        "      print('an element from stack has been poped out')\n",
        "  def display(self):\n",
        "    for i in range(len(l)):\n",
        "      print(l[len(l)-1-i],end='->')\n",
        "    else:\n",
        "      print('\\b'*2)\n",
        "  def peek(self):\n",
        "    print('The top element is at ',len(l)-1)\n",
        "    return len(l)-1\n",
        "i=1\n",
        "l=[]\n",
        "y=int(input('Enter the maximum elements you can store in your stack(or go by default size of 10): '))\n",
        "if y==0:\n",
        "  z=stack()\n",
        "else:\n",
        "  z=stack(y)\n",
        "while i==1:\n",
        "  print('These are the operations available which could be performed onn the stack: \\n1.push\\n2.pop\\n3.display\\n4.peek')\n",
        "  n=int(input('Enter your choice of operation: '))\n",
        "  if n==1:\n",
        "    x=input('Enter the element to be pushed into the stack: ')\n",
        "    z.push(l,x)\n",
        "  elif n==2:\n",
        "    z.pop()\n",
        "  elif n==3:\n",
        "    z.display()\n",
        "  elif n==4:\n",
        "    z.peek()\n",
        "  else:\n",
        "    print('Invalid input')\n",
        "  i=int(input('press 1 to continue or 0 to exit \\n\\n'))\n",
        "print('Thank you')\n",
        "\n"
      ],
      "metadata": {
        "colab": {
          "base_uri": "https://localhost:8080/"
        },
        "id": "oYHswBTm5Tbw",
        "outputId": "78fd355c-5fbe-4f7c-b3b5-1f28ac564395"
      },
      "execution_count": null,
      "outputs": [
        {
          "output_type": "stream",
          "name": "stdout",
          "text": [
            "Enter the maximum elements you can store in your stack(or go by default size of 10): 3\n",
            "These are the operations available which could be performed onn the stack: \n",
            "1.push\n",
            "2.pop\n",
            "3.display\n",
            "4.peek\n",
            "Enter your choice of operation: 1\n",
            "Enter the element to be pushed into the stack: 3\n",
            "3 has been inserted into the list\n",
            "press 1 to continue or 0 to exit \n",
            "\n",
            "1\n",
            "These are the operations available which could be performed onn the stack: \n",
            "1.push\n",
            "2.pop\n",
            "3.display\n",
            "4.peek\n",
            "Enter your choice of operation: 2\n",
            "an element from stack has been poped out\n",
            "press 1 to continue or 0 to exit \n",
            "\n",
            "0\n",
            "Thank you\n"
          ]
        }
      ]
    },
    {
      "cell_type": "code",
      "source": [
        "from collections import deque\n",
        "class queue:\n",
        "  def __init__(self,max=10):\n",
        "    self.__max=max\n",
        "  def push(self,l,a):\n",
        "    if len(l)>=self.__max:\n",
        "      print('Cant enqueue given element queue is full')\n",
        "    else:\n",
        "      l.appendleft(a)\n",
        "      print(a, 'has been enqueued into the queue')\n",
        "  def pop(self):\n",
        "    if len(l)==0:\n",
        "      print('queue empty nothing to dequeue')\n",
        "    else:\n",
        "      l.pop()\n",
        "      print('an element from queue has been dequeued')\n",
        "  def display(self):\n",
        "    for i in range(len(l)):\n",
        "      print(l[i],end='->')\n",
        "    else:\n",
        "      print('Queue Head')\n",
        "i=1\n",
        "l=deque()\n",
        "y=int(input('Enter the maximum elements you can store in your queue(or go by default size of 10): '))\n",
        "z=queue(y)\n",
        "while i==1:\n",
        "  print('These are the operations available which could be performed onn the stack: \\n1.Enque\\n2.dequeue\\n3.display')\n",
        "  n=int(input('Enter your choice of operation: '))\n",
        "  if n==1:\n",
        "    x=input('Enter the element to be enqueued into the queue: ')\n",
        "    z.push(l,x)\n",
        "  elif n==2:\n",
        "    z.pop()\n",
        "  elif n==3:\n",
        "    z.display()\n",
        "  else:\n",
        "    print('Invalid input')\n",
        "  i=int(input('press 1 to continue or 0 to exit \\n\\n'))\n",
        "print('Thank you')\n",
        "\n"
      ],
      "metadata": {
        "colab": {
          "base_uri": "https://localhost:8080/"
        },
        "id": "InIeMErWlI31",
        "outputId": "76ff11ce-38de-47f9-956e-9a06e661518a"
      },
      "execution_count": null,
      "outputs": [
        {
          "output_type": "stream",
          "name": "stdout",
          "text": [
            "Enter the maximum elements you can store in your queue(or go by default size of 10): 3\n",
            "These are the operations available which could be performed onn the stack: \n",
            "1.Enque\n",
            "2.dequeue\n",
            "3.display\n",
            "Enter your choice of operation: 1\n",
            "Enter the element to be enqueued into the queue: 5\n",
            "5 has been enqueued into the queue\n",
            "press 1 to continue or 0 to exit \n",
            "\n",
            "1\n",
            "These are the operations available which could be performed onn the stack: \n",
            "1.Enque\n",
            "2.dequeue\n",
            "3.display\n",
            "Enter your choice of operation: 1\n",
            "Enter the element to be enqueued into the queue: 4\n",
            "4 has been enqueued into the queue\n",
            "press 1 to continue or 0 to exit \n",
            "\n",
            "1\n",
            "These are the operations available which could be performed onn the stack: \n",
            "1.Enque\n",
            "2.dequeue\n",
            "3.display\n",
            "Enter your choice of operation: 3\n",
            "4->5->\b\n",
            "press 1 to continue or 0 to exit \n",
            "\n",
            "1\n",
            "These are the operations available which could be performed onn the stack: \n",
            "1.Enque\n",
            "2.dequeue\n",
            "3.display\n",
            "Enter your choice of operation: 2\n",
            "an element from queue has been dequeued\n",
            "press 1 to continue or 0 to exit \n",
            "\n",
            "1\n",
            "These are the operations available which could be performed onn the stack: \n",
            "1.Enque\n",
            "2.dequeue\n",
            "3.display\n",
            "Enter your choice of operation: 1\n",
            "Enter the element to be enqueued into the queue: 6\n",
            "6 has been enqueued into the queue\n",
            "press 1 to continue or 0 to exit \n",
            "\n",
            "1\n",
            "These are the operations available which could be performed onn the stack: \n",
            "1.Enque\n",
            "2.dequeue\n",
            "3.display\n",
            "Enter your choice of operation: 3\n",
            "6->4->\b\n",
            "press 1 to continue or 0 to exit \n",
            "\n",
            "0\n",
            "Thank you\n"
          ]
        }
      ]
    },
    {
      "cell_type": "code",
      "source": [
        "class stack:\n",
        "  def __init__(self,max=10):\n",
        "    self.__max=max\n",
        "  def push(self,l,a):\n",
        "    if len(l)>=self.__max:\n",
        "      print('Cant insert stack is full')\n",
        "    else:\n",
        "      l.append(a)\n",
        "      print(a, 'has been inserted into the list')\n",
        "  def pop(self):\n",
        "    if len(l)==0:\n",
        "      print('Stack empty nothing to pop')\n",
        "    else:\n",
        "      l.pop()\n",
        "      print('an element from stack has been poped out')\n",
        "  def display(self):\n",
        "    for i in range(len(l)):\n",
        "      print(l[len(l)-1-i],end='->')\n",
        "    else:\n",
        "      print('\\b'*2)\n",
        "  def peek(self):\n",
        "    return len(l)-1\n",
        "s=input()\n",
        "x=list(s)\n",
        "z=stack(len(x))\n",
        "l=[]\n",
        "for i in range(len(x)):\n",
        "  z.push(l,x[i])\n",
        "x=[]\n",
        "print(l)\n",
        "while l!=[]:\n",
        "  x.append(l[z.peek()])\n",
        "  l.pop()\n",
        "print(''.join(x))\n",
        "\n"
      ],
      "metadata": {
        "colab": {
          "base_uri": "https://localhost:8080/"
        },
        "id": "t-UNgUatK3g7",
        "outputId": "0614449e-a4d8-4885-884d-c7c7740dbe44"
      },
      "execution_count": null,
      "outputs": [
        {
          "output_type": "stream",
          "name": "stdout",
          "text": [
            "vishnu'\n",
            "v has been inserted into the list\n",
            "i has been inserted into the list\n",
            "s has been inserted into the list\n",
            "h has been inserted into the list\n",
            "n has been inserted into the list\n",
            "u has been inserted into the list\n",
            "' has been inserted into the list\n",
            "['v', 'i', 's', 'h', 'n', 'u', \"'\"]\n",
            "'unhsiv\n"
          ]
        }
      ]
    },
    {
      "cell_type": "code",
      "source": [
        "class stack:\n",
        "  def __init__(self,max=10):\n",
        "    self.__max=max\n",
        "  def push(self,l,a):\n",
        "    if len(l)>=self.__max:\n",
        "      print('Cant insert stack is full')\n",
        "    else:\n",
        "      l.append(a)\n",
        "  def pop(self):\n",
        "    if len(l)==0:\n",
        "      print('Stack empty nothing to pop')\n",
        "    else:\n",
        "      l.pop()\n",
        "  def display(self):\n",
        "    for i in range(len(l)):\n",
        "      print(l[len(l)-1-i],end='->')\n",
        "    else:\n",
        "      print('\\b'*2)\n",
        "  def peek(self):\n",
        "    return len(l)-1\n",
        "s=input()\n",
        "x=list(s)\n",
        "z=stack(len(x))\n",
        "l=[]\n",
        "for i in range(len(x)):\n",
        "  z.push(l,x[i])\n",
        "x=[]\n",
        "print(l)\n",
        "while l!=[]:\n",
        "  x.append(l[z.peek()])\n",
        "  l.pop()\n",
        "print(''.join(x))\n",
        "\n"
      ],
      "metadata": {
        "id": "-aHktXfKMjgU"
      },
      "execution_count": null,
      "outputs": []
    },
    {
      "cell_type": "code",
      "source": [
        "class stack:\n",
        "  def __init__(self,max=10):\n",
        "    self.__max=max\n",
        "  def push(self,l,a):\n",
        "    if len(l)>=self.__max:\n",
        "      print('Cant insert stack is full')\n",
        "    else:\n",
        "      l.append(a)\n",
        "  def pop(self):\n",
        "    if len(l)==0:\n",
        "      print('Stack empty nothing to pop')\n",
        "    else:\n",
        "      l.pop()\n",
        "  def display(self):\n",
        "    for i in range(len(l)):\n",
        "      print(l[len(l)-1-i],end='->')\n",
        "    else:\n",
        "      print('\\b'*2)\n",
        "  def peek(self):\n",
        "    return len(l)-1\n",
        "\n",
        "\n"
      ],
      "metadata": {
        "id": "54cLkWZtMiFV"
      },
      "execution_count": null,
      "outputs": []
    },
    {
      "cell_type": "code",
      "source": [
        "#implementing parenthesis balance with sir's logic"
      ],
      "metadata": {
        "id": "cBxZcychVNqi"
      },
      "execution_count": null,
      "outputs": []
    },
    {
      "cell_type": "code",
      "source": [
        "s=input()\n",
        "if len(s)%2==0:\n",
        "  w=len(s)/2\n",
        "  x=list(s)\n",
        "  z=stack(len(x))\n",
        "  l=[]\n",
        "  for i in range(len(x)//2):\n",
        "    if x[i+len(x)//2]=='(':\n",
        "      z.push(l,')')\n",
        "    elif x[i+len(x)//2]==')':\n",
        "      z.push(l,'(')\n",
        "    elif x[i+len(x)//2]=='[':\n",
        "      z.push(l,']')\n",
        "    elif x[i+len(x)//2]==']':\n",
        "      z.push(l,'[')\n",
        "    elif x[i+len(x)//2]=='{':\n",
        "      z.push(l,'}')\n",
        "    elif x[i+len(x)//2]=='}':\n",
        "      z.push(l,'{')\n",
        "    elif x[i+len(x)//2]=='<':\n",
        "      z.push(l,'>')\n",
        "    elif x[i+len(x)//2]=='>':\n",
        "      z.push(l,'<')\n",
        "  m=[]\n",
        "  while l!=[]:\n",
        "    m.append(l[z.peek()])\n",
        "    l.pop()\n",
        "  if x[:len(x)//2]==m:\n",
        "    print('True')\n",
        "  else:\n",
        "    print('False')\n",
        "else:\n",
        "  print('False')"
      ],
      "metadata": {
        "colab": {
          "base_uri": "https://localhost:8080/"
        },
        "id": "90_xAOhRQpOx",
        "outputId": "fff11267-ccec-4802-be6a-e6ba73e8a5bc"
      },
      "execution_count": null,
      "outputs": [
        {
          "output_type": "stream",
          "name": "stdout",
          "text": [
            "({[<>]})\n",
            "True\n"
          ]
        }
      ]
    },
    {
      "cell_type": "code",
      "source": [
        "for i in range(1,11):print(9,'*',i,'=',i*9)"
      ],
      "metadata": {
        "id": "Ty3UowmCSXzr",
        "colab": {
          "base_uri": "https://localhost:8080/"
        },
        "outputId": "ef99c4c4-2ce7-4937-cfff-7865e99cf420"
      },
      "execution_count": null,
      "outputs": [
        {
          "output_type": "stream",
          "name": "stdout",
          "text": [
            "9 * 1 = 9\n",
            "9 * 2 = 18\n",
            "9 * 3 = 27\n",
            "9 * 4 = 36\n",
            "9 * 5 = 45\n",
            "9 * 6 = 54\n",
            "9 * 7 = 63\n",
            "9 * 8 = 72\n",
            "9 * 9 = 81\n",
            "9 * 10 = 90\n"
          ]
        }
      ]
    },
    {
      "cell_type": "code",
      "source": [
        "fact=1\n",
        "print([fact:=fact*i for i in range(1,5+1)])\n"
      ],
      "metadata": {
        "colab": {
          "base_uri": "https://localhost:8080/"
        },
        "id": "WCvZDRUgwYLJ",
        "outputId": "62aa3389-1d6f-4864-e670-561d67795460"
      },
      "execution_count": null,
      "outputs": [
        {
          "output_type": "stream",
          "name": "stdout",
          "text": [
            "[1, 2, 6, 24, 120]\n",
            "['9*1=9', '9*2=18', '9*3=27', '9*4=36', '9*5=45', '9*6=54', '9*7=63', '9*8=72', '9*9=81', '9*10=90']\n"
          ]
        }
      ]
    },
    {
      "cell_type": "code",
      "source": [
        "l=[print(f\"9*{i}={9*i}\") for i in range(1,11)]"
      ],
      "metadata": {
        "colab": {
          "base_uri": "https://localhost:8080/"
        },
        "id": "LmQ5aIts2k_b",
        "outputId": "535112e8-c0e3-4a9c-d5d5-ae0be3b29fbe"
      },
      "execution_count": null,
      "outputs": [
        {
          "output_type": "stream",
          "name": "stdout",
          "text": [
            "9*1=9\n",
            "9*2=18\n",
            "9*3=27\n",
            "9*4=36\n",
            "9*5=45\n",
            "9*6=54\n",
            "9*7=63\n",
            "9*8=72\n",
            "9*9=81\n",
            "9*10=90\n"
          ]
        }
      ]
    },
    {
      "cell_type": "code",
      "source": [
        "s='I like Python'\n",
        "m='Java is very popular language'\n",
        "x=list(set(s))\n",
        "y=list(set(m))\n",
        "f=list()\n",
        "for i in range(len(x)):\n",
        "  if x[i] in y:\n",
        "    f.append(x[i])\n",
        "print(''.join(f))\n",
        "\n"
      ],
      "metadata": {
        "colab": {
          "base_uri": "https://localhost:8080/"
        },
        "id": "Av2LoMiK5VaY",
        "outputId": "a7bbd2ae-796a-477c-b3aa-958a82e3bfb8"
      },
      "execution_count": null,
      "outputs": [
        {
          "output_type": "stream",
          "name": "stdout",
          "text": [
            " iloney\n"
          ]
        }
      ]
    },
    {
      "cell_type": "code",
      "source": [
        "s='the sun rises in the east'\n",
        "l=s.split()\n",
        "for i in range(len(l)):\n",
        "  if i%2!=0:\n",
        "    m=[]\n",
        "    n=[]\n",
        "    for j in range(len(l[i])):\n",
        "      if l[i][j] not in ['a','e','i','o','u']:\n",
        "        m.append(l[i][j])\n",
        "      else:\n",
        "        n.append(l[i][j])\n",
        "    m.extend(n)\n",
        "    l[i]=''.join(m)\n",
        "  else:\n",
        "    l[i]=l[i][::-1]\n",
        "print(' '.join(l))"
      ],
      "metadata": {
        "colab": {
          "base_uri": "https://localhost:8080/"
        },
        "id": "LgbPk1C8WKev",
        "outputId": "106acb0e-3935-49b7-be4a-e7db0c94979e"
      },
      "execution_count": null,
      "outputs": [
        {
          "output_type": "stream",
          "name": "stdout",
          "text": [
            "eht snu sesir ni eht stea\n"
          ]
        }
      ]
    },
    {
      "cell_type": "code",
      "source": [
        "n=list(map(int,input().split()))\n",
        "l=0\n",
        "r=len(n)-1\n",
        "lm=0\n",
        "rm=0\n",
        "c=0\n",
        "while l<r:\n",
        "  if n[l]<n[r]:\n",
        "    if n[l]>=lm:\n",
        "      lm=n[l]\n",
        "    else:\n",
        "      c+=lm-n[l]\n",
        "    l+=1\n",
        "  else:\n",
        "    if n[r]>=rm:\n",
        "      rm=n[r]\n",
        "    else:\n",
        "      c+=rm-n[r]\n",
        "    r-=1\n",
        "print(c)\n"
      ],
      "metadata": {
        "colab": {
          "base_uri": "https://localhost:8080/"
        },
        "id": "MYCE3_7REWr6",
        "outputId": "ee1b6d40-7032-464b-dc13-f349bb276f9f"
      },
      "execution_count": null,
      "outputs": [
        {
          "output_type": "stream",
          "name": "stdout",
          "text": [
            "4 1 7 0 5 1 9 2 3\n",
            "19\n"
          ]
        }
      ]
    },
    {
      "cell_type": "code",
      "source": [
        "class Node:\n",
        "  def __init__(self,num=0):\n",
        "    self.data=num\n",
        "    self.next=None\n",
        "class LinkedList:\n",
        "  def __init__(self):\n",
        "    self.head=None\n",
        "    self.temp=None\n",
        "    self.__length=0\n",
        "  def deleteelmt(self,n):\n",
        "    if self.head==None:\n",
        "      print('Empty list')\n",
        "      return None\n",
        "    elif self.head.data==n:\n",
        "      if self.__length==1:\n",
        "        print(f'Found the element {self.head.data} and has been deleted')\n",
        "        self.head=None\n",
        "        self.__length-=1\n",
        "        return None\n",
        "      elif self.head.next:\n",
        "        print(f'Found the element {self.head.data} and has been deleted')\n",
        "        self.head=self.head.next\n",
        "        self.__length-=1\n",
        "        return None\n",
        "      else:\n",
        "        print('Element Not Found')\n",
        "        return None\n",
        "    else:\n",
        "      self.temp=self.head\n",
        "      self.prev=None\n",
        "      while self.temp!=None:\n",
        "        if self.temp.data==n:\n",
        "          self.prev.next=self.temp.next\n",
        "          print(f'Found the element {self.temp.data} and has been deleted')\n",
        "          self.temp.next=None\n",
        "          self.__length-=1\n",
        "          return None\n",
        "        self.prev=self.temp\n",
        "        self.temp=self.temp.next\n",
        "      else:\n",
        "        print('Element Not Found')\n",
        "  def append(self,num=0):\n",
        "    self.__length+=1\n",
        "    nn=Node(num)\n",
        "    if self.head==None:\n",
        "      self.head=nn\n",
        "      self.temp=nn\n",
        "    else:\n",
        "      self.temp=self.head\n",
        "      while self.temp.next!=None:\n",
        "        self.temp=self.temp.next\n",
        "      self.temp.next=nn\n",
        "\n",
        "  def delete(self):\n",
        "    if self.head==None:\n",
        "      print('Empty list')\n",
        "      self.__length+=1\n",
        "    elif self.__length==1:\n",
        "      self.head=None\n",
        "    else:\n",
        "      self.temp=self.head\n",
        "      while self.temp.next!=None:\n",
        "        self.prev=self.temp\n",
        "        self.temp=self.temp.next\n",
        "      self.prev.next=None\n",
        "    self.__length-=1\n",
        "  def delete_at_beg(self):\n",
        "    self.__length-=1\n",
        "    if self.head==None:\n",
        "      print('Empty list')\n",
        "      self.__length+=1\n",
        "    else:\n",
        "      self.temp=self.head.next\n",
        "      self.head=self.temp\n",
        "  def length(self):\n",
        "    return self.__length\n",
        "  def Insert_at_beg(self,num=0):\n",
        "    self.__length+=1\n",
        "    nn=Node(num)\n",
        "    if self.head==None:\n",
        "      self.head=nn\n",
        "      self.temp=nn\n",
        "    else:\n",
        "      self.temp=self.head\n",
        "    nn.next=self.temp\n",
        "    self.head=nn\n",
        "    return nn\n",
        "  def printL(self):\n",
        "    if self.head==None:\n",
        "      print('Empty Linked List')\n",
        "    else:\n",
        "      self.temp=self.head\n",
        "      while self.temp!=None:\n",
        "        print(self.temp.data,end='->')\n",
        "        self.temp=self.temp.next\n",
        "      else:\n",
        "        print('\\b\\b')\n",
        "l=LinkedList()\n",
        "l.append(5)\n",
        "print('hi')\n",
        "l.printL()\n",
        "l.append(6)\n",
        "l.printL()\n",
        "l.Insert_at_beg(4)\n",
        "l.Insert_at_beg(3)\n",
        "l.printL()\n",
        "l.delete_at_beg()\n",
        "l.printL()\n",
        "l.delete()\n",
        "l.printL()\n",
        "print(l.length())\n",
        "l.printL()\n",
        "l.append(9)\n",
        "l.append(10)\n",
        "l.deleteelmt(9)\n",
        "l.printL()\n",
        "print(l.length())\n",
        "l.delete()\n",
        "l.printL()\n",
        "l.deleteelmt(4)\n",
        "l.printL()\n",
        "l.deleteelmt(5)\n",
        "l.printL()\n",
        "\n"
      ],
      "metadata": {
        "id": "Pb4N6W7SbOeH",
        "colab": {
          "base_uri": "https://localhost:8080/"
        },
        "outputId": "79c938bb-1a9c-429c-f46c-3a2c1ac6fdc6"
      },
      "execution_count": null,
      "outputs": [
        {
          "output_type": "stream",
          "name": "stdout",
          "text": [
            "hi\n",
            "5->\b\b\n",
            "5->6->\b\b\n",
            "3->4->5->6->\b\b\n",
            "4->5->6->\b\b\n",
            "4->5->\b\b\n",
            "2\n",
            "4->5->\b\b\n",
            "Found the element 9 and has been deleted\n",
            "4->5->10->\b\b\n",
            "3\n",
            "4->5->\b\b\n",
            "Found the element 4 and has been deleted\n",
            "5->\b\b\n",
            "Found the element 5 and has been deleted\n",
            "Empty Linked List\n"
          ]
        }
      ]
    },
    {
      "cell_type": "code",
      "source": [
        "#mistake mcq\n",
        "x=-1\n",
        "y=~0\n",
        "print(y)\n",
        "print(x==y)"
      ],
      "metadata": {
        "id": "VDRJoK2w6G-3",
        "colab": {
          "base_uri": "https://localhost:8080/"
        },
        "outputId": "4f40f3d4-4384-428b-ef7b-c1ac39a717f5"
      },
      "execution_count": null,
      "outputs": [
        {
          "output_type": "stream",
          "name": "stdout",
          "text": [
            "-1\n",
            "True\n"
          ]
        }
      ]
    },
    {
      "cell_type": "code",
      "source": [
        "class Node:\n",
        "  def __init__(self,num=0):\n",
        "    self.data=num\n",
        "    self.next=None\n",
        "class LinkedListStack:\n",
        "  def __init__(self):\n",
        "    self.head=None\n",
        "    self.temp=None\n",
        "    self.__length=0\n",
        "  def push(self,n):\n",
        "    self.__length+=1\n",
        "    nn=Node(n)\n",
        "    if self.head==None:\n",
        "      self.head=nn\n",
        "    else:\n",
        "      nn.next=self.head\n",
        "      self.head=nn\n",
        "  def pop(self):\n",
        "    self.__length-=1\n",
        "    if self.head==None:\n",
        "      print('Empty stack')\n",
        "      return -1\n",
        "    else:\n",
        "      self.temp=self.head\n",
        "      self.head=self.head.next\n",
        "      return self.temp.data\n",
        "  def printL(self):\n",
        "    if self.head==None:\n",
        "      print('Empty Stack')\n",
        "    else:\n",
        "      self.temp=self.head\n",
        "      while self.temp!=None:\n",
        "        print(self.temp.data,end='->')\n",
        "        self.temp=self.temp.next\n",
        "      else:\n",
        "        print('\\b\\b')\n",
        "s=input().split(' ')\n",
        "l=LinkedListStack()\n",
        "for i in range(len(s)//2):\n",
        "  l.push(ord(s[i]))\n",
        "if len(s)%2==0:\n",
        "  for i in range(len(s)//2):\n",
        "    if chr(l.pop())==s[(len(s)//2)+i]:\n",
        "      continue\n",
        "    else:\n",
        "      print('Not palindrome')\n",
        "      break\n",
        "  else:\n",
        "    print('Palindrome')\n",
        "else:\n",
        "  for i in range(len(s)//2):\n",
        "    if chr(l.pop())==s[(len(s)//2)+1+i]:\n",
        "      continue\n",
        "    else:\n",
        "      print('Not palindrome')\n",
        "      break\n",
        "  else:\n",
        "    print('Palindrome')\n",
        "\n",
        "\n"
      ],
      "metadata": {
        "id": "8KaS8x0Cnvh6",
        "colab": {
          "base_uri": "https://localhost:8080/"
        },
        "outputId": "ee2e0685-a905-4a0a-e96e-a5fa64b74a7c"
      },
      "execution_count": null,
      "outputs": [
        {
          "output_type": "stream",
          "name": "stdout",
          "text": [
            "1 2 3 2 1\n",
            "Palindrome\n"
          ]
        }
      ]
    },
    {
      "cell_type": "code",
      "source": [
        "class Node:\n",
        "  def __init__(self,n=0):\n",
        "    self.prev=None\n",
        "    self.data=n\n",
        "    self.next=None\n",
        "class DoublyLinkedList:\n",
        "  def __init__(self):\n",
        "    self.head=None\n",
        "    self.temp=None\n",
        "    self.__length=0\n",
        "  def append(self,n):\n",
        "    self.__length+=1\n",
        "    nn=Node(n)\n",
        "    if self.head==None:\n",
        "      self.head=nn\n",
        "    else:\n",
        "      self.temp=self.head\n",
        "      while self.temp.next!=None:\n",
        "        self.temp=self.temp.next\n",
        "      self.temp.next=nn\n",
        "      nn.prev=self.temp\n",
        "  def Insert_at_beg(self,n):\n",
        "    self.__length+=1\n",
        "    nn=Node(n)\n",
        "    if self.head==None:\n",
        "      self.head=nn\n",
        "    else:\n",
        "      nn.next=self.head\n",
        "      self.head.prev=nn\n",
        "      self.head=nn\n",
        "  def Insert_at_pos(self,pos,n):\n",
        "    self.__length+=1\n",
        "    nn=Node(n)\n",
        "    c=1\n",
        "    self.temp=self.head\n",
        "    while c<pos:\n",
        "      c+=1\n",
        "      if self.temp.next:\n",
        "        self.temp=self.temp.next\n",
        "      else:\n",
        "        print('out of bounds of linked list')\n",
        "        return None\n",
        "    nn.next=self.temp.next\n",
        "    self.temp.next.prev=nn\n",
        "    self.temp.next=nn\n",
        "    nn.prev=self.temp\n",
        "  def delete_at_end(self):\n",
        "    if self.head==None:\n",
        "      print('Empty LinkedList')\n",
        "      self.__length+=1\n",
        "    elif self.__length==1:\n",
        "      self.head==None\n",
        "    else:\n",
        "      self.temp=self.head\n",
        "      while self.temp.next!=None:\n",
        "        self.prev=self.temp\n",
        "        self.temp=self.temp.next\n",
        "      self.prev.next=None\n",
        "      self.temp.prev=None\n",
        "    self.__length-=1\n",
        "  def delete_at_beg(self):\n",
        "    self.__length-=1\n",
        "    if self.head==None:\n",
        "      print('Empty Linked List')\n",
        "      self.__length+=1\n",
        "    elif self.__length==1:\n",
        "      self.head=None\n",
        "    else:\n",
        "      self.temp=self.head.next\n",
        "      self.temp.prev=None\n",
        "      self.head.next=None\n",
        "      self.head=self.temp\n",
        "    self.__length-=1\n",
        "  def delete_at_pos(self,pos):\n",
        "    if self.head==None:\n",
        "      print('Empty Linked List')\n",
        "      self.__length+=1\n",
        "    else:\n",
        "      c=1\n",
        "      self.temp=self.head\n",
        "      while c<pos:\n",
        "        if self.temp.next:\n",
        "          self.temp=self.temp.next\n",
        "          c+=1\n",
        "        else:\n",
        "          print('Given position out of bound of Linked List')\n",
        "          return None\n",
        "      self.temp.next=self.temp.next.next\n",
        "      self.temp.next.prev=self.temp\n",
        "    self.__length-=1\n",
        "  def printDL(self):\n",
        "    if self.head==None:\n",
        "      print('Empty List')\n",
        "    else:\n",
        "      self.temp=self.head\n",
        "      while self.temp!=None:\n",
        "        print(self.temp.data,end='<->')\n",
        "        self.temp=self.temp.next\n",
        "      else:\n",
        "        print('\\b\\b\\b')\n",
        "\n",
        "  def length(self):\n",
        "    print(self.__length)\n",
        "l=DoublyLinkedList()\n",
        "l.append(1)\n",
        "l.append(2)\n",
        "l.append(3)\n",
        "l.append(4)\n",
        "l.Insert_at_beg(5)\n",
        "l.Insert_at_pos(3,6)\n",
        "l.printDL()\n",
        "l.length()\n",
        "l.delete_at_end()\n",
        "l.printDL()\n",
        "l.length()\n",
        "l.delete_at_pos(3)\n",
        "l.printDL()\n",
        "l.length()\n",
        "l.delete_at_beg()\n",
        "l.printDL()\n",
        "l.length()\n",
        "\n",
        "\n"
      ],
      "metadata": {
        "colab": {
          "base_uri": "https://localhost:8080/",
          "height": 505
        },
        "id": "HXdOKt7kD-fR",
        "outputId": "5757c09e-e336-4498-f314-5803d5ad9d27"
      },
      "execution_count": null,
      "outputs": [
        {
          "output_type": "stream",
          "name": "stdout",
          "text": [
            "5<->1<->2<->6<->3<->4<->\b\b\b\n",
            "4<->\b\b\b\n",
            "6\n",
            "4<->\b\b\b\n",
            "5\n",
            "Given position out of bound of Linked List\n",
            "4<->\b\b\b\n",
            "5\n"
          ]
        },
        {
          "output_type": "error",
          "ename": "AttributeError",
          "evalue": "'NoneType' object has no attribute 'prev'",
          "traceback": [
            "\u001b[0;31m---------------------------------------------------------------------------\u001b[0m",
            "\u001b[0;31mAttributeError\u001b[0m                            Traceback (most recent call last)",
            "\u001b[0;32m<ipython-input-10-6301b998f0af>\u001b[0m in \u001b[0;36m<cell line: 130>\u001b[0;34m()\u001b[0m\n\u001b[1;32m    128\u001b[0m \u001b[0ml\u001b[0m\u001b[0;34m.\u001b[0m\u001b[0mprintDL\u001b[0m\u001b[0;34m(\u001b[0m\u001b[0;34m)\u001b[0m\u001b[0;34m\u001b[0m\u001b[0;34m\u001b[0m\u001b[0m\n\u001b[1;32m    129\u001b[0m \u001b[0ml\u001b[0m\u001b[0;34m.\u001b[0m\u001b[0mlength\u001b[0m\u001b[0;34m(\u001b[0m\u001b[0;34m)\u001b[0m\u001b[0;34m\u001b[0m\u001b[0;34m\u001b[0m\u001b[0m\n\u001b[0;32m--> 130\u001b[0;31m \u001b[0ml\u001b[0m\u001b[0;34m.\u001b[0m\u001b[0mdelete_at_beg\u001b[0m\u001b[0;34m(\u001b[0m\u001b[0;34m)\u001b[0m\u001b[0;34m\u001b[0m\u001b[0;34m\u001b[0m\u001b[0m\n\u001b[0m\u001b[1;32m    131\u001b[0m \u001b[0ml\u001b[0m\u001b[0;34m.\u001b[0m\u001b[0mprintDL\u001b[0m\u001b[0;34m(\u001b[0m\u001b[0;34m)\u001b[0m\u001b[0;34m\u001b[0m\u001b[0;34m\u001b[0m\u001b[0m\n\u001b[1;32m    132\u001b[0m \u001b[0ml\u001b[0m\u001b[0;34m.\u001b[0m\u001b[0mlength\u001b[0m\u001b[0;34m(\u001b[0m\u001b[0;34m)\u001b[0m\u001b[0;34m\u001b[0m\u001b[0;34m\u001b[0m\u001b[0m\n",
            "\u001b[0;32m<ipython-input-10-6301b998f0af>\u001b[0m in \u001b[0;36mdelete_at_beg\u001b[0;34m(self)\u001b[0m\n\u001b[1;32m     68\u001b[0m     \u001b[0;32melse\u001b[0m\u001b[0;34m:\u001b[0m\u001b[0;34m\u001b[0m\u001b[0;34m\u001b[0m\u001b[0m\n\u001b[1;32m     69\u001b[0m       \u001b[0mself\u001b[0m\u001b[0;34m.\u001b[0m\u001b[0mtemp\u001b[0m\u001b[0;34m=\u001b[0m\u001b[0mself\u001b[0m\u001b[0;34m.\u001b[0m\u001b[0mhead\u001b[0m\u001b[0;34m.\u001b[0m\u001b[0mnext\u001b[0m\u001b[0;34m\u001b[0m\u001b[0;34m\u001b[0m\u001b[0m\n\u001b[0;32m---> 70\u001b[0;31m       \u001b[0mself\u001b[0m\u001b[0;34m.\u001b[0m\u001b[0mtemp\u001b[0m\u001b[0;34m.\u001b[0m\u001b[0mprev\u001b[0m\u001b[0;34m=\u001b[0m\u001b[0;32mNone\u001b[0m\u001b[0;34m\u001b[0m\u001b[0;34m\u001b[0m\u001b[0m\n\u001b[0m\u001b[1;32m     71\u001b[0m       \u001b[0mself\u001b[0m\u001b[0;34m.\u001b[0m\u001b[0mhead\u001b[0m\u001b[0;34m.\u001b[0m\u001b[0mnext\u001b[0m\u001b[0;34m=\u001b[0m\u001b[0;32mNone\u001b[0m\u001b[0;34m\u001b[0m\u001b[0;34m\u001b[0m\u001b[0m\n\u001b[1;32m     72\u001b[0m       \u001b[0mself\u001b[0m\u001b[0;34m.\u001b[0m\u001b[0mhead\u001b[0m\u001b[0;34m=\u001b[0m\u001b[0mself\u001b[0m\u001b[0;34m.\u001b[0m\u001b[0mtemp\u001b[0m\u001b[0;34m\u001b[0m\u001b[0;34m\u001b[0m\u001b[0m\n",
            "\u001b[0;31mAttributeError\u001b[0m: 'NoneType' object has no attribute 'prev'"
          ]
        }
      ]
    },
    {
      "cell_type": "code",
      "source": [
        "class Node:\n",
        "  def __init__(self,n=0):\n",
        "    self.prev=None\n",
        "    self.data=n\n",
        "    self.next=None\n",
        "class SDoublyLinkedList:\n",
        "  def __init__(self):\n",
        "    self.head=None\n",
        "    self.temp=None\n",
        "    self.__length=0\n",
        "  def append(self,n):\n",
        "    self.__length+=1\n",
        "    nn=Node(n)\n",
        "    if self.head==None:\n",
        "      self.head=nn\n",
        "    else:\n",
        "      self.temp=self.head\n",
        "      while self.temp.next!=None:\n",
        "        self.temp=self.temp.next\n",
        "      self.temp.next=nn\n",
        "      nn.prev=self.temp\n",
        "  def checkpalin(self):\n",
        "    end=self.temp=self.head\n",
        "    while end.next!=None:\n",
        "      end=end.next\n",
        "    for i in range(self.__length//2):\n",
        "      if self.temp.data!=end.data:\n",
        "        print('Not palindrome')\n",
        "        return None\n",
        "      else:\n",
        "        self.temp=self.temp.next\n",
        "        end=end.prev\n",
        "    else:\n",
        "      print('Palindrome')\n",
        "  def printSDL(self):\n",
        "    if self.head==None:\n",
        "      print('Empty List')\n",
        "    else:\n",
        "      self.temp=self.head\n",
        "      while self.temp!=None:\n",
        "        print(self.temp.data,end='<->')\n",
        "        self.temp=self.temp.next\n",
        "      else:\n",
        "        print('\\b\\b\\b')\n",
        "s=input().split(' ')\n",
        "l=SDoublyLinkedList()\n",
        "for i in range(len(s)):\n",
        "  l.append(ord(s[i]))\n",
        "l.checkpalin()\n",
        "l.printSDL()\n",
        "\n"
      ],
      "metadata": {
        "id": "XDOGcz_TTABw",
        "colab": {
          "base_uri": "https://localhost:8080/"
        },
        "outputId": "7eb3cb39-ce7a-4e26-93ee-ee1402a6b1eb"
      },
      "execution_count": null,
      "outputs": [
        {
          "output_type": "stream",
          "name": "stdout",
          "text": [
            "a b c c b a\n",
            "Palindrome\n",
            "97<->98<->99<->99<->98<->97<->\b\b\b\n"
          ]
        }
      ]
    },
    {
      "cell_type": "code",
      "source": [
        "\n",
        "class Node:\n",
        "  def __init__(self,n=0):\n",
        "    self.prev=None\n",
        "    self.data=n\n",
        "    self.next=None\n",
        "class DoublyLinkedList:\n",
        "  def __init__(self):\n",
        "    self.head=None\n",
        "    self.temp=None\n",
        "    self.__length=0\n",
        "  def append(self,n):\n",
        "    self.__length+=1\n",
        "    nn=Node(n)\n",
        "    if self.head==None:\n",
        "      self.head=nn\n",
        "    else:\n",
        "      self.temp=self.head\n",
        "      while self.temp.next!=None:\n",
        "        self.temp=self.temp.next\n",
        "      self.temp.next=nn\n",
        "      nn.prev=self.temp\n",
        "  def Insert_at_beg(self,n):\n",
        "    self.__length+=1\n",
        "    nn=Node(n)\n",
        "    if self.head==None:\n",
        "      self.head=nn\n",
        "    else:\n",
        "      nn.next=self.head\n",
        "      self.head.prev=nn\n",
        "      self.head=nn\n",
        "  def Insert_at_pos(self,pos,n):\n",
        "    self.__length+=1\n",
        "    nn=Node(n)\n",
        "    c=1\n",
        "    self.temp=self.head\n",
        "    while c<pos:\n",
        "      c+=1\n",
        "      if self.temp.next:\n",
        "        self.temp=self.temp.next\n",
        "      else:\n",
        "        print('out of bounds of linked list')\n",
        "        return None\n",
        "    nn.next=self.temp.next\n",
        "    self.temp.next.prev=nn\n",
        "    self.temp.next=nn\n",
        "    nn.prev=self.temp\n",
        "  def delete_at_end(self):\n",
        "    if self.head==None:\n",
        "      print('Empty LinkedList')\n",
        "      self.__length+=1\n",
        "    elif self.__length==1:\n",
        "      self.head==None\n",
        "    else:\n",
        "      self.temp=self.head\n",
        "      while self.temp.next!=None:\n",
        "        self.prev=self.temp\n",
        "        self.temp=self.temp.next\n",
        "      self.prev.next=None\n",
        "      self.temp.prev=None\n",
        "    self.__length-=1\n",
        "  def delete_at_beg(self):\n",
        "    self.__length-=1\n",
        "    if self.head==None:\n",
        "      print('Empty Linked List')\n",
        "      self.__length+=1\n",
        "    elif self.__length==1:\n",
        "      self.head=None\n",
        "    else:\n",
        "      self.temp=self.head.next\n",
        "      self.temp.prev=None\n",
        "      self.head.next=None\n",
        "      self.head=self.temp\n",
        "    self.__length-=1\n",
        "  def delete_at_pos(self,pos):\n",
        "    if self.head==None:\n",
        "      print('Empty Linked List')\n",
        "      self.__length+=1\n",
        "    else:\n",
        "      c=1\n",
        "      self.temp=self.head\n",
        "      while c<pos:\n",
        "        if self.temp.next:\n",
        "          self.temp=self.temp.next\n",
        "          c+=1\n",
        "        else:\n",
        "          print('Given position out of bound of Linked List')\n",
        "          return None\n",
        "      self.temp.next=self.temp.next.next\n",
        "      self.temp.next.prev=self.temp\n",
        "    self.__length-=1\n",
        "  def printDL(self):\n",
        "    if self.head==None:\n",
        "      print('Empty List')\n",
        "    else:\n",
        "      self.temp=self.head\n",
        "      while self.temp!=None:\n",
        "        print(self.temp.data,end='<->')\n",
        "        self.temp=self.temp.next\n",
        "      else:\n",
        "        print('\\b\\b\\b')\n",
        "  def revll(self):\n",
        "    self.temp=self.head\n",
        "    while self.temp.next!=None:\n",
        "      n=self.temp.next\n",
        "      self.temp.next=self.temp.prev\n",
        "      self.temp.prev=n\n",
        "      self.temp=self.temp.prev\n",
        "    self.temp.next=self.temp.prev\n",
        "    self.temp.prev=None\n",
        "    self.head=self.temp\n",
        "  def length(self):\n",
        "    print(self.__length)\n",
        "l=DoublyLinkedList()\n",
        "l.append(1)\n",
        "l.append(2)\n",
        "l.append(3)\n",
        "l.append(4)\n",
        "l.Insert_at_beg(5)\n",
        "l.Insert_at_pos(3,6)\n",
        "l.printDL()\n",
        "l.length()\n",
        "l.revll()\n",
        "l.printDL()\n",
        "l.length()\n",
        "l.delete_at_end()\n",
        "l.printDL()\n",
        "l.length()\n",
        "l.delete_at_pos(3)\n",
        "l.printDL()\n",
        "l.length()\n",
        "l.delete_at_beg()\n",
        "l.printDL()\n",
        "l.length()\n",
        "\n",
        "\n"
      ],
      "metadata": {
        "colab": {
          "base_uri": "https://localhost:8080/"
        },
        "id": "59MFJ1AXrizM",
        "outputId": "e87666d3-750a-44c4-a540-87cfdf194ff3"
      },
      "execution_count": null,
      "outputs": [
        {
          "output_type": "stream",
          "name": "stdout",
          "text": [
            "5<->1<->2<->6<->3<->4<->\b\b\b\n",
            "6\n",
            "4<->3<->6<->2<->1<->5<->\b\b\b\n",
            "6\n",
            "4<->3<->6<->2<->1<->\b\b\b\n",
            "5\n",
            "4<->3<->6<->1<->\b\b\b\n",
            "4\n",
            "3<->6<->1<->\b\b\b\n",
            "2\n"
          ]
        }
      ]
    },
    {
      "cell_type": "code",
      "source": [
        "l=[1,2,3,4,5]\n",
        "b=0\n",
        "for i in range(len(l)):\n",
        "  c=len(l)-i\n",
        "  for j in range(i,len(l)):\n",
        "    b+=1\n",
        "    if l[i]>l[j]:\n",
        "      l[i],l[j]=l[j],l[i]\n",
        "    else:\n",
        "      c-=1\n",
        "  if  c==0:\n",
        "    break\n",
        "print(b)\n"
      ],
      "metadata": {
        "colab": {
          "base_uri": "https://localhost:8080/"
        },
        "id": "ifubXsrXwInQ",
        "outputId": "58073a81-d364-4969-8c02-0d565bcb5aee"
      },
      "execution_count": null,
      "outputs": [
        {
          "output_type": "stream",
          "name": "stdout",
          "text": [
            "6\n"
          ]
        }
      ]
    },
    {
      "cell_type": "code",
      "source": [
        "#Bubble sort linked list single\n",
        "def bub_sortll(head,lenList):\n",
        "  temp=head\n",
        "  for i in range(1,lenList):\n",
        "    slow=temp\n",
        "    fast=slow.next\n",
        "    for j in range(i,len(list))\n",
        "      print(f'slow: {slow.data} fast:{fast.data}')\n",
        "      if slow.data>fast.data:\n",
        "        slow.data, fast.data =fast.data, slow.data\n",
        "      fast=fast.next\n",
        "      slow=slow.next\n",
        "    temp=temp.next"
      ],
      "metadata": {
        "id": "69WOWppp4jSi"
      },
      "execution_count": null,
      "outputs": []
    },
    {
      "cell_type": "code",
      "source": [
        "#selection sort linked list single\n",
        "def selct_sortll(head,lenlist):\n",
        "  slow =head\n",
        "  for i in range(1,lenlist):\n",
        "    fast=slow.next\n",
        "    while fast:\n",
        "      if slow.data>fast.data:\n",
        "        slow.data,fast.data=fast.data,slow.data\n",
        "      fast=fast.next\n",
        "    slow=slow.next"
      ],
      "metadata": {
        "id": "sqIbX15C1THW"
      },
      "execution_count": null,
      "outputs": []
    },
    {
      "cell_type": "code",
      "source": [
        "def tripfund():\n",
        "  n=int(input())\n",
        "  if n not in range(50,50_001):\n",
        "    raise ValueError('the value should be integer and in betwwn 50 and 50000')\n",
        "  p=list(map(float,input().split()))\n",
        "  if sum(p)!=1:\n",
        "    raise ValueError('The sum of proportion of students should be equal to 1')\n",
        "  ts=int(input())\n",
        "  tf=(ts*p[0]*12)+(ts*p[1]*10)+(ts*p[2]*7)+(ts*p[3]*5)\n",
        "  if (tf/2)>n:\n",
        "    print('NO')\n",
        "  else:\n",
        "    print('YES')\n",
        "\n",
        "tripfund()"
      ],
      "metadata": {
        "colab": {
          "base_uri": "https://localhost:8080/"
        },
        "id": "hjhsYuxBrssJ",
        "outputId": "aa74177a-1754-4b6f-d55a-5670c79ef133"
      },
      "execution_count": null,
      "outputs": [
        {
          "output_type": "stream",
          "name": "stdout",
          "text": [
            "504\n",
            "0.2 0.08 0.4 0.32\n",
            "125\n",
            "950.0\n",
            "YES\n"
          ]
        }
      ]
    },
    {
      "cell_type": "code",
      "source": [
        "import random\n",
        "import string\n",
        "\n",
        "def generate_employee_code():\n",
        "    return str(random.randint(100, 999))\n",
        "unique_employee_codes = set()\n",
        "while len(unique_employee_codes) < 50:\n",
        "    unique_employee_codes.add(generate_employee_code())\n",
        "employee_codes_list = list(unique_employee_codes)\n",
        "print(employee_codes_list)\n",
        "\n",
        "def generate_random_phone_number():\n",
        "    return ''.join(random.choice('0123456789') for _ in range(10))\n",
        "unique_phone_numbers = set()\n",
        "while len(unique_phone_numbers) < 50:\n",
        "    unique_phone_numbers.add(generate_random_phone_number())\n",
        "phone_numbers_list = list(unique_phone_numbers)\n",
        "print(phone_numbers_list)\n",
        "\n",
        "def generate_random_name():\n",
        "    return ''.join(random.choice(string.ascii_lowercase) for _ in range(5))\n",
        "unique_names = set()\n",
        "while len(unique_names) < 50:\n",
        "    unique_names.add(generate_random_name())\n",
        "names_list = list(unique_names)\n",
        "print(names_list)"
      ],
      "metadata": {
        "colab": {
          "base_uri": "https://localhost:8080/"
        },
        "id": "EbkSgCwQ1HVR",
        "outputId": "bc08e68b-d99d-4004-86f5-9c3917a7cfe6"
      },
      "execution_count": null,
      "outputs": [
        {
          "output_type": "stream",
          "name": "stdout",
          "text": [
            "['893', '661', '571', '819', '476', '349', '864', '151', '805', '730', '740', '266', '722', '268', '147', '528', '505', '253', '726', '698', '885', '173', '237', '437', '414', '947', '714', '198', '351', '257', '115', '322', '100', '691', '648', '142', '637', '778', '491', '741', '972', '918', '897', '274', '186', '404', '703', '243', '265', '116']\n",
            "['8904076189', '0917429490', '7738181621', '4835304227', '8581074944', '7717528788', '6571268818', '9784182657', '5906708900', '1814061381', '7266782788', '3371407500', '3660958977', '9249914146', '6068671657', '1610716717', '8937702804', '7215852563', '5554482923', '4741592549', '8563227761', '9129433432', '6864719628', '2412739462', '3482160795', '3020668817', '0137567892', '2125752578', '4770358951', '2660580460', '7357587479', '0360520440', '8783592395', '2997734871', '8506354970', '8939344368', '2573804654', '5460764175', '7357561276', '9549682384', '8530802364', '4985408827', '9430466615', '6753691579', '4103477032', '1866555974', '3574913914', '6865783598', '6322368367', '4092135497']\n",
            "['lkvlk', 'oppga', 'mzgxv', 'qhsog', 'bgydc', 'tvctk', 'lbefc', 'mafva', 'ytazs', 'dgmtv', 'scqao', 'slkch', 'rnnaq', 'xahha', 'hxgpt', 'kiijm', 'etgws', 'jijyh', 'apoca', 'tdokl', 'dqujz', 'mcdxd', 'gahrr', 'wqfsd', 'abnbc', 'mprbu', 'maalm', 'wklrn', 'cmrmk', 'wphhn', 'ecnkt', 'xjvou', 'nlgxb', 'bwaui', 'fhzuz', 'zntsk', 'yidqn', 'fdece', 'zitcd', 'hqoka', 'etzkd', 'rtakp', 'idpor', 'anxtt', 'euudg', 'kpvxk', 'xkomm', 'ubsmi', 'bixqy', 'pdtqu']\n"
          ]
        }
      ]
    },
    {
      "cell_type": "code",
      "source": [
        "class Employee:\n",
        "  def __init__(self,emp_id=0,F_name='',S_name='',phone=0):\n",
        "    self.next=None\n",
        "    self.emp_id=emp_id\n",
        "    self.F_name=F_name\n",
        "    self.S_name=S_name\n",
        "    self.phone=phone\n",
        "class LL:\n",
        "  def __init__(self):\n",
        "    self.head=None\n",
        "    self.temp=None\n",
        "    self.__length=0\n",
        "  def entry(self,emp_id,F_name,S_name,phone):\n",
        "    self.__length+=1\n",
        "    nn=Employee(emp_id,F_name,S_name,phone)\n",
        "    if self.head==None:\n",
        "      self.head=nn\n",
        "    else:\n",
        "      self.temp=self.head\n",
        "      while self.temp.next!=None:\n",
        "        self.temp=self.temp.next\n",
        "      self.temp.next=nn\n",
        "  def printL(self):\n",
        "    if self.head==None:\n",
        "      print('Empty list')\n",
        "    else:\n",
        "      self.temp=self.head\n",
        "      c=1\n",
        "      print(f\"{'SNo'.ljust(3)} {'emp_id'.ljust(6)} {'F_name'.ljust(10)} {'S_name'.ljust(10)} {'phone'.rjust(12)}\")\n",
        "      while self.temp!=None:\n",
        "        print(f'{str(c).ljust(3)} {str(self.temp.emp_id).ljust(6)} {self.temp.F_name.ljust(10)} {self.temp.S_name.ljust(10)} {str(self.temp.phone).rjust(12)}')\n",
        "        c+=1\n",
        "        self.temp=self.temp.next\n",
        "  def sort_fname(self):\n",
        "    if self.head==None or self.head.next==None:\n",
        "      return None\n",
        "    else:\n",
        "      slow=self.head\n",
        "      for i in range(1,self.__length):\n",
        "        fast=slow.next\n",
        "        for j in range(i,self.__length):\n",
        "          if slow.F_name > fast.F_name:\n",
        "            slow.F_name,fast.F_name=fast.F_name,slow.F_name\n",
        "            slow.emp_id,fast.emp_id=fast.emp_id,slow.emp_id\n",
        "            slow.S_name,fast.S_name=fast.S_name,slow.S_name\n",
        "            slow.phone,fast.phone=fast.phone,slow.phone\n",
        "          fast=fast.next\n",
        "        slow=slow.next\n",
        "  def sort_phone(self):\n",
        "    if self.head==None or self.head.next==None:\n",
        "      return None\n",
        "    else:\n",
        "      slow=self.head\n",
        "      for i in range(1,self.__length):\n",
        "        fast=slow.next\n",
        "        for j in range(i,self.__length):\n",
        "          if slow.phone > fast.phone:\n",
        "            slow.F_name,fast.F_name=fast.F_name,slow.F_name\n",
        "            slow.emp_id,fast.emp_id=fast.emp_id,slow.emp_id\n",
        "            slow.S_name,fast.S_name=fast.S_name,slow.S_name\n",
        "            slow.phone,fast.phone=fast.phone,slow.phone\n",
        "          fast=fast.next\n",
        "        slow=slow.next\n",
        "l=LL()\n",
        "l.entry(1,'Vishnu','Neharsha',6301695130)\n",
        "names=['cygsl','sai','bhuvan','teja', 'bhuvam', 'qtvwa', 'nxqer', 'vjmlr', 'tcvdk', 'fdxug', 'rqipk', 'xquzl', 'smifv', 'hvjig', 'qrxln', 'ygkoj', 'vxcmn', 'ufydq', 'mpkva', 'onjep', 'ezwdg', 'pbrth', 'ljkci', 'tkfnl', 'bwfgh', 'nzpmx', 'hvear', 'rqwpo', 'ksjuc', 'gceyd', 'rqyxi', 'hykla', 'rctab', 'gwozh', 'rqxtj', 'lequz', 'lmrxy', 'kcxsb', 'tfdin', 'yvnix', 'zjrgp', 'cuxwa', 'sjafr', 'btoqi', 'imtjh', 'bfgal', 'lfhry', 'yqfxs', 'avjom', 'tdonx']\n",
        "phone_num=['8952146037','9985016637','4061593278', '7124685039', '9358624701', '2476085913', '1532079684', '9086743521', '3617584029', '5820341976', '6495218703', '1374592086', '2069357148', '3941760285', '5706913482', '8417536029', '6958172403', '8204361957', '7135942806', '4852701396', '9260143578', '7032158964', '8349172506', '1950786432', '2873651904', '6301927485', '4019538726', '5096378142', '4783625190', '3140978256', '2978436105', '8563140792', '1405297836', '2308716459', '6759803142', '2947865103', '3107582946', '5728610349', '1082976543', '6594182730', '8156247039', '9673845102', '5012376894', '3609782415', '4231568907', '1895076243', '2806745139', '9431862570', '7651290843', '1320948576']\n",
        "emp_id=['740', '142', '631', '892', '309', '426', '517', '951', '283', '865', '748', '637', '574', '205', '320', '460', '841', '589', '704', '916', '382', '197', '681', '935', '890', '153', '624', '794', '318', '258', '493', '367', '149', '530', '682', '215', '873', '724', '361', '428', '976', '532', '619', '450', '810', '762', '978', '301', '694', '267']\n",
        "for i in range(50):\n",
        "  l.entry(int(emp_id[i]),names[i],'NVK',int(phone_num[i]))\n",
        "\n",
        "l.printL()\n",
        "print('\\n\\n\\n')\n",
        "l.sort_fname()\n",
        "l.printL()\n",
        "print('\\n\\n\\n')\n",
        "l.sort_phone()\n",
        "l.printL()\n",
        "\n",
        "\n"
      ],
      "metadata": {
        "colab": {
          "base_uri": "https://localhost:8080/"
        },
        "id": "MXuNGT7v8fyJ",
        "outputId": "234748ea-abb6-4f3e-ee65-68e74389d23e"
      },
      "execution_count": null,
      "outputs": [
        {
          "output_type": "stream",
          "name": "stdout",
          "text": [
            "SNo emp_id F_name     S_name            phone\n",
            "1   1      Vishnu     Neharsha     6301695130\n",
            "2   740    cygsl      NVK          8952146037\n",
            "3   142    sai        NVK          9985016637\n",
            "4   631    bhuvan     NVK          4061593278\n",
            "5   892    teja       NVK          7124685039\n",
            "6   309    bhuvam     NVK          9358624701\n",
            "7   426    qtvwa      NVK          2476085913\n",
            "8   517    nxqer      NVK          1532079684\n",
            "9   951    vjmlr      NVK          9086743521\n",
            "10  283    tcvdk      NVK          3617584029\n",
            "11  865    fdxug      NVK          5820341976\n",
            "12  748    rqipk      NVK          6495218703\n",
            "13  637    xquzl      NVK          1374592086\n",
            "14  574    smifv      NVK          2069357148\n",
            "15  205    hvjig      NVK          3941760285\n",
            "16  320    qrxln      NVK          5706913482\n",
            "17  460    ygkoj      NVK          8417536029\n",
            "18  841    vxcmn      NVK          6958172403\n",
            "19  589    ufydq      NVK          8204361957\n",
            "20  704    mpkva      NVK          7135942806\n",
            "21  916    onjep      NVK          4852701396\n",
            "22  382    ezwdg      NVK          9260143578\n",
            "23  197    pbrth      NVK          7032158964\n",
            "24  681    ljkci      NVK          8349172506\n",
            "25  935    tkfnl      NVK          1950786432\n",
            "26  890    bwfgh      NVK          2873651904\n",
            "27  153    nzpmx      NVK          6301927485\n",
            "28  624    hvear      NVK          4019538726\n",
            "29  794    rqwpo      NVK          5096378142\n",
            "30  318    ksjuc      NVK          4783625190\n",
            "31  258    gceyd      NVK          3140978256\n",
            "32  493    rqyxi      NVK          2978436105\n",
            "33  367    hykla      NVK          8563140792\n",
            "34  149    rctab      NVK          1405297836\n",
            "35  530    gwozh      NVK          2308716459\n",
            "36  682    rqxtj      NVK          6759803142\n",
            "37  215    lequz      NVK          2947865103\n",
            "38  873    lmrxy      NVK          3107582946\n",
            "39  724    kcxsb      NVK          5728610349\n",
            "40  361    tfdin      NVK          1082976543\n",
            "41  428    yvnix      NVK          6594182730\n",
            "42  976    zjrgp      NVK          8156247039\n",
            "43  532    cuxwa      NVK          9673845102\n",
            "44  619    sjafr      NVK          5012376894\n",
            "45  450    btoqi      NVK          3609782415\n",
            "46  810    imtjh      NVK          4231568907\n",
            "47  762    bfgal      NVK          1895076243\n",
            "48  978    lfhry      NVK          2806745139\n",
            "49  301    yqfxs      NVK          9431862570\n",
            "50  694    avjom      NVK          7651290843\n",
            "51  267    tdonx      NVK          1320948576\n",
            "\n",
            "\n",
            "\n",
            "\n",
            "SNo emp_id F_name     S_name            phone\n",
            "1   1      Vishnu     Neharsha     6301695130\n",
            "2   694    avjom      NVK          7651290843\n",
            "3   762    bfgal      NVK          1895076243\n",
            "4   309    bhuvam     NVK          9358624701\n",
            "5   631    bhuvan     NVK          4061593278\n",
            "6   450    btoqi      NVK          3609782415\n",
            "7   890    bwfgh      NVK          2873651904\n",
            "8   532    cuxwa      NVK          9673845102\n",
            "9   740    cygsl      NVK          8952146037\n",
            "10  382    ezwdg      NVK          9260143578\n",
            "11  865    fdxug      NVK          5820341976\n",
            "12  258    gceyd      NVK          3140978256\n",
            "13  530    gwozh      NVK          2308716459\n",
            "14  624    hvear      NVK          4019538726\n",
            "15  205    hvjig      NVK          3941760285\n",
            "16  367    hykla      NVK          8563140792\n",
            "17  810    imtjh      NVK          4231568907\n",
            "18  724    kcxsb      NVK          5728610349\n",
            "19  318    ksjuc      NVK          4783625190\n",
            "20  215    lequz      NVK          2947865103\n",
            "21  978    lfhry      NVK          2806745139\n",
            "22  681    ljkci      NVK          8349172506\n",
            "23  873    lmrxy      NVK          3107582946\n",
            "24  704    mpkva      NVK          7135942806\n",
            "25  517    nxqer      NVK          1532079684\n",
            "26  153    nzpmx      NVK          6301927485\n",
            "27  916    onjep      NVK          4852701396\n",
            "28  197    pbrth      NVK          7032158964\n",
            "29  320    qrxln      NVK          5706913482\n",
            "30  426    qtvwa      NVK          2476085913\n",
            "31  149    rctab      NVK          1405297836\n",
            "32  748    rqipk      NVK          6495218703\n",
            "33  794    rqwpo      NVK          5096378142\n",
            "34  682    rqxtj      NVK          6759803142\n",
            "35  493    rqyxi      NVK          2978436105\n",
            "36  142    sai        NVK          9985016637\n",
            "37  619    sjafr      NVK          5012376894\n",
            "38  574    smifv      NVK          2069357148\n",
            "39  283    tcvdk      NVK          3617584029\n",
            "40  267    tdonx      NVK          1320948576\n",
            "41  892    teja       NVK          7124685039\n",
            "42  361    tfdin      NVK          1082976543\n",
            "43  935    tkfnl      NVK          1950786432\n",
            "44  589    ufydq      NVK          8204361957\n",
            "45  951    vjmlr      NVK          9086743521\n",
            "46  841    vxcmn      NVK          6958172403\n",
            "47  637    xquzl      NVK          1374592086\n",
            "48  460    ygkoj      NVK          8417536029\n",
            "49  301    yqfxs      NVK          9431862570\n",
            "50  428    yvnix      NVK          6594182730\n",
            "51  976    zjrgp      NVK          8156247039\n",
            "\n",
            "\n",
            "\n",
            "\n",
            "SNo emp_id F_name     S_name            phone\n",
            "1   361    tfdin      NVK          1082976543\n",
            "2   267    tdonx      NVK          1320948576\n",
            "3   637    xquzl      NVK          1374592086\n",
            "4   149    rctab      NVK          1405297836\n",
            "5   517    nxqer      NVK          1532079684\n",
            "6   762    bfgal      NVK          1895076243\n",
            "7   935    tkfnl      NVK          1950786432\n",
            "8   574    smifv      NVK          2069357148\n",
            "9   530    gwozh      NVK          2308716459\n",
            "10  426    qtvwa      NVK          2476085913\n",
            "11  978    lfhry      NVK          2806745139\n",
            "12  890    bwfgh      NVK          2873651904\n",
            "13  215    lequz      NVK          2947865103\n",
            "14  493    rqyxi      NVK          2978436105\n",
            "15  873    lmrxy      NVK          3107582946\n",
            "16  258    gceyd      NVK          3140978256\n",
            "17  450    btoqi      NVK          3609782415\n",
            "18  283    tcvdk      NVK          3617584029\n",
            "19  205    hvjig      NVK          3941760285\n",
            "20  624    hvear      NVK          4019538726\n",
            "21  631    bhuvan     NVK          4061593278\n",
            "22  810    imtjh      NVK          4231568907\n",
            "23  318    ksjuc      NVK          4783625190\n",
            "24  916    onjep      NVK          4852701396\n",
            "25  619    sjafr      NVK          5012376894\n",
            "26  794    rqwpo      NVK          5096378142\n",
            "27  320    qrxln      NVK          5706913482\n",
            "28  724    kcxsb      NVK          5728610349\n",
            "29  865    fdxug      NVK          5820341976\n",
            "30  1      Vishnu     Neharsha     6301695130\n",
            "31  153    nzpmx      NVK          6301927485\n",
            "32  748    rqipk      NVK          6495218703\n",
            "33  428    yvnix      NVK          6594182730\n",
            "34  682    rqxtj      NVK          6759803142\n",
            "35  841    vxcmn      NVK          6958172403\n",
            "36  197    pbrth      NVK          7032158964\n",
            "37  892    teja       NVK          7124685039\n",
            "38  704    mpkva      NVK          7135942806\n",
            "39  694    avjom      NVK          7651290843\n",
            "40  976    zjrgp      NVK          8156247039\n",
            "41  589    ufydq      NVK          8204361957\n",
            "42  681    ljkci      NVK          8349172506\n",
            "43  460    ygkoj      NVK          8417536029\n",
            "44  367    hykla      NVK          8563140792\n",
            "45  740    cygsl      NVK          8952146037\n",
            "46  951    vjmlr      NVK          9086743521\n",
            "47  382    ezwdg      NVK          9260143578\n",
            "48  309    bhuvam     NVK          9358624701\n",
            "49  301    yqfxs      NVK          9431862570\n",
            "50  532    cuxwa      NVK          9673845102\n",
            "51  142    sai        NVK          9985016637\n"
          ]
        }
      ]
    },
    {
      "cell_type": "code",
      "source": [
        "#insertion sort ll\n",
        "def insert_sortll(self):\n",
        "  if self.head==None:\n",
        "    return None\n",
        "  self.slow=self.head\n",
        "  while slow:\n",
        "    mini=slow\n",
        "    fast=slow.next\n",
        "    while fast:\n",
        "      if mini.data>fast.data:\n",
        "        mini=fast\n",
        "      fast=fast.next\n",
        "    temp=slow.data\n",
        "    slow.data=mini.data\n",
        "    mini.data=temp\n",
        "    slow=slow.next\n",
        " #my code\n",
        "  for i in range(1,self.__length()):\n",
        "    if self.temp.data>nn.data:\n",
        "      ll.insert_node(nn,i)\n",
        "      return None\n",
        "    self.temp=self.temp.next\n",
        "\n"
      ],
      "metadata": {
        "id": "iY3iaydg6BAf"
      },
      "execution_count": null,
      "outputs": []
    },
    {
      "cell_type": "code",
      "source": [
        "class Node:\n",
        "  def __init__(self,n=0):\n",
        "    self.next=None\n",
        "    self.data=n\n",
        "class LL:\n",
        "  def __init__(self):\n",
        "    self.head=None\n",
        "    self.temp=None\n",
        "    self.__length=0\n",
        "  def append(self,n):\n",
        "    self.__length+=1\n",
        "    nn=Node(n)\n",
        "    if self.head==None:\n",
        "      self.head=nn\n",
        "    else:\n",
        "      self.temp=self.head\n",
        "      while self.temp.next!=None:\n",
        "        self.temp=self.temp.next\n",
        "      self.temp.next=nn\n",
        "  def majority_elmnt(self):\n",
        "    k=[]\n",
        "    if self.head==None:\n",
        "      return -1\n",
        "    else:\n",
        "      self.temp=self.head\n",
        "      while self.temp:\n",
        "        k.append(self.temp.data)\n",
        "        self.temp=self.temp.next\n",
        "      d=list(set(k))\n",
        "      max=None\n",
        "      c=-1\n",
        "      for i in d:\n",
        "        if k.count(i)>c:\n",
        "          c=k.count(i)\n",
        "          max=i\n",
        "      if c>(self.__length)//2:\n",
        "        print(max)\n",
        "\n",
        "  def max_find(self):\n",
        "    if self.head==None or self.__length==2:\n",
        "      return -1\n",
        "    else:\n",
        "      slow=self.head\n",
        "      for i in range(1,self.__length):\n",
        "        fast=slow.next\n",
        "        for j in range(i,self.__length):\n",
        "          if slow.data>fast.data:\n",
        "            slow.data,fast.data=fast.data,slow.data\n",
        "          fast=fast.next\n",
        "        slow=slow.next\n",
        "    max=-1\n",
        "    slow=self.head\n",
        "    fast=slow.next\n",
        "    while fast:\n",
        "      if max< fast.data-slow.data:\n",
        "        max=fast.data-slow.data\n",
        "      slow=fast\n",
        "      fast=fast.next\n",
        "    return max\n",
        "l=LL()\n",
        "'''for i in [8,5,7,4,6,1,0]:\n",
        "  l.append(i)\n",
        "m=l.max_find()\n",
        "print(m)'''\n",
        "for i in [8,7,8,7,8,7,8]:\n",
        "  l.append(i)\n",
        "l.majority_elmnt()"
      ],
      "metadata": {
        "id": "hME9reMecuEU",
        "colab": {
          "base_uri": "https://localhost:8080/"
        },
        "outputId": "71966cc5-6438-4d77-aa84-28465a4187b1"
      },
      "execution_count": null,
      "outputs": [
        {
          "output_type": "stream",
          "name": "stdout",
          "text": [
            "8\n"
          ]
        }
      ]
    },
    {
      "cell_type": "code",
      "source": [],
      "metadata": {
        "id": "JtsyH3H_hNWU"
      },
      "execution_count": null,
      "outputs": []
    }
  ]
}